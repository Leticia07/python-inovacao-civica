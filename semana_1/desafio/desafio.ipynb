{
  "cells": [
    {
      "cell_type": "markdown",
      "id": "b0c02ae8-da85-499a-99c9-8c3da9e1ae05",
      "metadata": {
        "id": "b0c02ae8-da85-499a-99c9-8c3da9e1ae05"
      },
      "source": [
        "# Explorando dados\n",
        "\n",
        "Neste desafio colocaremos em prática alguns conceitos apresentado nas aulas. Para isso, usaremos o conjunto de dados [Candidatos - 2022](https://dadosabertos.tse.jus.br/dataset/candidatos-2022) disponível no Portal de Dados Abertos do Tribunal Superior Eleitoral.\n",
        "\n",
        "Os dados também podem ser encontrados na pasta \"Dados\" deste repositório.\n",
        "\n",
        "Siga as orientações abaixo para completar o desafio:"
      ]
    },
    {
      "cell_type": "markdown",
      "id": "d2bf34dd-2879-4dd6-b65b-4944a34c03d4",
      "metadata": {
        "id": "d2bf34dd-2879-4dd6-b65b-4944a34c03d4"
      },
      "source": [
        "# Importe os pacotes necessários"
      ]
    },
    {
      "cell_type": "code",
      "execution_count": 9,
      "id": "b286617f-43b9-4c20-8b0e-5ae0da7e4a9f",
      "metadata": {
        "id": "b286617f-43b9-4c20-8b0e-5ae0da7e4a9f"
      },
      "outputs": [],
      "source": [
        "import pandas as pd\n",
        "import glob as gb"
      ]
    },
    {
      "cell_type": "markdown",
      "id": "ced62f05-5e3c-4565-b13c-f359fb8c35bf",
      "metadata": {
        "id": "ced62f05-5e3c-4565-b13c-f359fb8c35bf"
      },
      "source": [
        "# Crie uma lista com o título dos arquivos usando a biblioteca Glob"
      ]
    },
    {
      "cell_type": "code",
      "execution_count": 10,
      "id": "45b0cb8f-d567-4274-877f-53e8faa7d1be",
      "metadata": {
        "colab": {
          "base_uri": "https://localhost:8080/"
        },
        "id": "45b0cb8f-d567-4274-877f-53e8faa7d1be",
        "outputId": "41ce075d-124a-4e99-eaa3-38ea3451be9b"
      },
      "outputs": [
        {
          "output_type": "execute_result",
          "data": {
            "text/plain": [
              "['./consulta_cand_2022_PA.csv', './consulta_cand_2022_AP.csv']"
            ]
          },
          "metadata": {},
          "execution_count": 10
        }
      ],
      "source": [
        "files = gb.glob('./consulta*.csv')\n",
        "files"
      ]
    },
    {
      "cell_type": "markdown",
      "id": "cf29db73-447b-4375-bad5-2df7aa7c4743",
      "metadata": {
        "id": "cf29db73-447b-4375-bad5-2df7aa7c4743"
      },
      "source": [
        "# Crie um laço (loop) para ler todos os arquivos da lista (usando a biblioteca Pandas) e armazenar os dataframes em uma lista"
      ]
    },
    {
      "cell_type": "code",
      "execution_count": 11,
      "id": "dd63f03d-147e-4fda-ba61-9edb0bdee254",
      "metadata": {
        "id": "dd63f03d-147e-4fda-ba61-9edb0bdee254"
      },
      "outputs": [],
      "source": [
        "list_df = []\n",
        "for file in files:\n",
        "  df = pd.read_csv(file, sep=\";\", encoding=\"latin_1\", na_values=[\"#NULO\", -1, \"#NE\", -3])\n",
        "  list_df.append(df)"
      ]
    },
    {
      "cell_type": "markdown",
      "id": "310bca4e-c1c2-4030-a427-ecda54601106",
      "metadata": {
        "id": "310bca4e-c1c2-4030-a427-ecda54601106"
      },
      "source": [
        "# Concatene todos os dataframes da lista"
      ]
    },
    {
      "cell_type": "code",
      "execution_count": 12,
      "id": "997a08ff-f355-40c1-9257-cf4a196517bd",
      "metadata": {
        "colab": {
          "base_uri": "https://localhost:8080/"
        },
        "id": "997a08ff-f355-40c1-9257-cf4a196517bd",
        "outputId": "d3a84329-e88e-423f-f4f0-48a9cd1f6a21"
      },
      "outputs": [
        {
          "output_type": "execute_result",
          "data": {
            "text/plain": [
              "(1600, 71)"
            ]
          },
          "metadata": {},
          "execution_count": 12
        }
      ],
      "source": [
        "applications = pd.concat(list_df, axis=0, ignore_index=True)\n",
        "applications.shape"
      ]
    },
    {
      "cell_type": "markdown",
      "id": "0c1bee1c-a55d-4152-98cd-471028d2d73a",
      "metadata": {
        "id": "0c1bee1c-a55d-4152-98cd-471028d2d73a"
      },
      "source": [
        "# Apresente 5 linhas aleatórias do dataframe"
      ]
    },
    {
      "cell_type": "code",
      "execution_count": 13,
      "id": "b7b7124c-f6fa-4d90-b157-88678e82076e",
      "metadata": {
        "colab": {
          "base_uri": "https://localhost:8080/",
          "height": 560
        },
        "id": "b7b7124c-f6fa-4d90-b157-88678e82076e",
        "outputId": "0e67e72f-15ee-488a-834f-480d6a940feb"
      },
      "outputs": [
        {
          "output_type": "execute_result",
          "data": {
            "text/plain": [
              "      DT_GERACAO HH_GERACAO  ANO_ELEICAO  CD_TIPO_ELEICAO    NM_TIPO_ELEICAO  \\\n",
              "161   13/05/2023   19:32:48         2022                2  ELEIÇÃO ORDINÁRIA   \n",
              "1301  13/05/2023   19:32:48         2022                2  ELEIÇÃO ORDINÁRIA   \n",
              "1140  13/05/2023   19:32:48         2022                2  ELEIÇÃO ORDINÁRIA   \n",
              "264   13/05/2023   19:32:48         2022                2  ELEIÇÃO ORDINÁRIA   \n",
              "211   13/05/2023   19:32:48         2022                2  ELEIÇÃO ORDINÁRIA   \n",
              "\n",
              "      NR_TURNO  CD_ELEICAO                      DS_ELEICAO  DT_ELEICAO  \\\n",
              "161          1         546  Eleições Gerais Estaduais 2022  02/10/2022   \n",
              "1301         1         546  Eleições Gerais Estaduais 2022  02/10/2022   \n",
              "1140         1         546  Eleições Gerais Estaduais 2022  02/10/2022   \n",
              "264          1         546  Eleições Gerais Estaduais 2022  02/10/2022   \n",
              "211          1         546  Eleições Gerais Estaduais 2022  02/10/2022   \n",
              "\n",
              "     TP_ABRANGENCIA  ...          NR_PROCESSO CD_SITUACAO_CANDIDATO_PLEITO  \\\n",
              "161        ESTADUAL  ...  6007031420226140000                          2.0   \n",
              "1301       ESTADUAL  ...  6003541720226030000                          2.0   \n",
              "1140       ESTADUAL  ...  6004616120226030000                          2.0   \n",
              "264        ESTADUAL  ...  6011518420226140000                          NaN   \n",
              "211        ESTADUAL  ...  6005342720226140000                          2.0   \n",
              "\n",
              "     DS_SITUACAO_CANDIDATO_PLEITO  CD_SITUACAO_CANDIDATO_URNA  \\\n",
              "161                      DEFERIDO                         2.0   \n",
              "1301                     DEFERIDO                         2.0   \n",
              "1140                     DEFERIDO                         2.0   \n",
              "264                        #NULO#                         NaN   \n",
              "211                      DEFERIDO                         2.0   \n",
              "\n",
              "     DS_SITUACAO_CANDIDATO_URNA  ST_CANDIDATO_INSERIDO_URNA  \\\n",
              "161                    DEFERIDO                         SIM   \n",
              "1301                   DEFERIDO                         SIM   \n",
              "1140                   DEFERIDO                         SIM   \n",
              "264                      #NULO#                         NÃO   \n",
              "211                    DEFERIDO                         SIM   \n",
              "\n",
              "      NM_TIPO_DESTINACAO_VOTOS CD_SITUACAO_CANDIDATO_TOT  \\\n",
              "161                     Válido                       2.0   \n",
              "1301                    Válido                       2.0   \n",
              "1140                    Válido                       2.0   \n",
              "264                     #NULO#                       NaN   \n",
              "211                     Válido                       2.0   \n",
              "\n",
              "     DS_SITUACAO_CANDIDATO_TOT ST_PREST_CONTAS  \n",
              "161                   Deferido               S  \n",
              "1301                  Deferido               S  \n",
              "1140                  Deferido               S  \n",
              "264                     #NULO#               N  \n",
              "211                   Deferido               S  \n",
              "\n",
              "[5 rows x 71 columns]"
            ],
            "text/html": [
              "\n",
              "  <div id=\"df-4b435204-a5d4-47b9-b4dc-fc8eda1ea19c\">\n",
              "    <div class=\"colab-df-container\">\n",
              "      <div>\n",
              "<style scoped>\n",
              "    .dataframe tbody tr th:only-of-type {\n",
              "        vertical-align: middle;\n",
              "    }\n",
              "\n",
              "    .dataframe tbody tr th {\n",
              "        vertical-align: top;\n",
              "    }\n",
              "\n",
              "    .dataframe thead th {\n",
              "        text-align: right;\n",
              "    }\n",
              "</style>\n",
              "<table border=\"1\" class=\"dataframe\">\n",
              "  <thead>\n",
              "    <tr style=\"text-align: right;\">\n",
              "      <th></th>\n",
              "      <th>DT_GERACAO</th>\n",
              "      <th>HH_GERACAO</th>\n",
              "      <th>ANO_ELEICAO</th>\n",
              "      <th>CD_TIPO_ELEICAO</th>\n",
              "      <th>NM_TIPO_ELEICAO</th>\n",
              "      <th>NR_TURNO</th>\n",
              "      <th>CD_ELEICAO</th>\n",
              "      <th>DS_ELEICAO</th>\n",
              "      <th>DT_ELEICAO</th>\n",
              "      <th>TP_ABRANGENCIA</th>\n",
              "      <th>...</th>\n",
              "      <th>NR_PROCESSO</th>\n",
              "      <th>CD_SITUACAO_CANDIDATO_PLEITO</th>\n",
              "      <th>DS_SITUACAO_CANDIDATO_PLEITO</th>\n",
              "      <th>CD_SITUACAO_CANDIDATO_URNA</th>\n",
              "      <th>DS_SITUACAO_CANDIDATO_URNA</th>\n",
              "      <th>ST_CANDIDATO_INSERIDO_URNA</th>\n",
              "      <th>NM_TIPO_DESTINACAO_VOTOS</th>\n",
              "      <th>CD_SITUACAO_CANDIDATO_TOT</th>\n",
              "      <th>DS_SITUACAO_CANDIDATO_TOT</th>\n",
              "      <th>ST_PREST_CONTAS</th>\n",
              "    </tr>\n",
              "  </thead>\n",
              "  <tbody>\n",
              "    <tr>\n",
              "      <th>161</th>\n",
              "      <td>13/05/2023</td>\n",
              "      <td>19:32:48</td>\n",
              "      <td>2022</td>\n",
              "      <td>2</td>\n",
              "      <td>ELEIÇÃO ORDINÁRIA</td>\n",
              "      <td>1</td>\n",
              "      <td>546</td>\n",
              "      <td>Eleições Gerais Estaduais 2022</td>\n",
              "      <td>02/10/2022</td>\n",
              "      <td>ESTADUAL</td>\n",
              "      <td>...</td>\n",
              "      <td>6007031420226140000</td>\n",
              "      <td>2.0</td>\n",
              "      <td>DEFERIDO</td>\n",
              "      <td>2.0</td>\n",
              "      <td>DEFERIDO</td>\n",
              "      <td>SIM</td>\n",
              "      <td>Válido</td>\n",
              "      <td>2.0</td>\n",
              "      <td>Deferido</td>\n",
              "      <td>S</td>\n",
              "    </tr>\n",
              "    <tr>\n",
              "      <th>1301</th>\n",
              "      <td>13/05/2023</td>\n",
              "      <td>19:32:48</td>\n",
              "      <td>2022</td>\n",
              "      <td>2</td>\n",
              "      <td>ELEIÇÃO ORDINÁRIA</td>\n",
              "      <td>1</td>\n",
              "      <td>546</td>\n",
              "      <td>Eleições Gerais Estaduais 2022</td>\n",
              "      <td>02/10/2022</td>\n",
              "      <td>ESTADUAL</td>\n",
              "      <td>...</td>\n",
              "      <td>6003541720226030000</td>\n",
              "      <td>2.0</td>\n",
              "      <td>DEFERIDO</td>\n",
              "      <td>2.0</td>\n",
              "      <td>DEFERIDO</td>\n",
              "      <td>SIM</td>\n",
              "      <td>Válido</td>\n",
              "      <td>2.0</td>\n",
              "      <td>Deferido</td>\n",
              "      <td>S</td>\n",
              "    </tr>\n",
              "    <tr>\n",
              "      <th>1140</th>\n",
              "      <td>13/05/2023</td>\n",
              "      <td>19:32:48</td>\n",
              "      <td>2022</td>\n",
              "      <td>2</td>\n",
              "      <td>ELEIÇÃO ORDINÁRIA</td>\n",
              "      <td>1</td>\n",
              "      <td>546</td>\n",
              "      <td>Eleições Gerais Estaduais 2022</td>\n",
              "      <td>02/10/2022</td>\n",
              "      <td>ESTADUAL</td>\n",
              "      <td>...</td>\n",
              "      <td>6004616120226030000</td>\n",
              "      <td>2.0</td>\n",
              "      <td>DEFERIDO</td>\n",
              "      <td>2.0</td>\n",
              "      <td>DEFERIDO</td>\n",
              "      <td>SIM</td>\n",
              "      <td>Válido</td>\n",
              "      <td>2.0</td>\n",
              "      <td>Deferido</td>\n",
              "      <td>S</td>\n",
              "    </tr>\n",
              "    <tr>\n",
              "      <th>264</th>\n",
              "      <td>13/05/2023</td>\n",
              "      <td>19:32:48</td>\n",
              "      <td>2022</td>\n",
              "      <td>2</td>\n",
              "      <td>ELEIÇÃO ORDINÁRIA</td>\n",
              "      <td>1</td>\n",
              "      <td>546</td>\n",
              "      <td>Eleições Gerais Estaduais 2022</td>\n",
              "      <td>02/10/2022</td>\n",
              "      <td>ESTADUAL</td>\n",
              "      <td>...</td>\n",
              "      <td>6011518420226140000</td>\n",
              "      <td>NaN</td>\n",
              "      <td>#NULO#</td>\n",
              "      <td>NaN</td>\n",
              "      <td>#NULO#</td>\n",
              "      <td>NÃO</td>\n",
              "      <td>#NULO#</td>\n",
              "      <td>NaN</td>\n",
              "      <td>#NULO#</td>\n",
              "      <td>N</td>\n",
              "    </tr>\n",
              "    <tr>\n",
              "      <th>211</th>\n",
              "      <td>13/05/2023</td>\n",
              "      <td>19:32:48</td>\n",
              "      <td>2022</td>\n",
              "      <td>2</td>\n",
              "      <td>ELEIÇÃO ORDINÁRIA</td>\n",
              "      <td>1</td>\n",
              "      <td>546</td>\n",
              "      <td>Eleições Gerais Estaduais 2022</td>\n",
              "      <td>02/10/2022</td>\n",
              "      <td>ESTADUAL</td>\n",
              "      <td>...</td>\n",
              "      <td>6005342720226140000</td>\n",
              "      <td>2.0</td>\n",
              "      <td>DEFERIDO</td>\n",
              "      <td>2.0</td>\n",
              "      <td>DEFERIDO</td>\n",
              "      <td>SIM</td>\n",
              "      <td>Válido</td>\n",
              "      <td>2.0</td>\n",
              "      <td>Deferido</td>\n",
              "      <td>S</td>\n",
              "    </tr>\n",
              "  </tbody>\n",
              "</table>\n",
              "<p>5 rows × 71 columns</p>\n",
              "</div>\n",
              "      <button class=\"colab-df-convert\" onclick=\"convertToInteractive('df-4b435204-a5d4-47b9-b4dc-fc8eda1ea19c')\"\n",
              "              title=\"Convert this dataframe to an interactive table.\"\n",
              "              style=\"display:none;\">\n",
              "        \n",
              "  <svg xmlns=\"http://www.w3.org/2000/svg\" height=\"24px\"viewBox=\"0 0 24 24\"\n",
              "       width=\"24px\">\n",
              "    <path d=\"M0 0h24v24H0V0z\" fill=\"none\"/>\n",
              "    <path d=\"M18.56 5.44l.94 2.06.94-2.06 2.06-.94-2.06-.94-.94-2.06-.94 2.06-2.06.94zm-11 1L8.5 8.5l.94-2.06 2.06-.94-2.06-.94L8.5 2.5l-.94 2.06-2.06.94zm10 10l.94 2.06.94-2.06 2.06-.94-2.06-.94-.94-2.06-.94 2.06-2.06.94z\"/><path d=\"M17.41 7.96l-1.37-1.37c-.4-.4-.92-.59-1.43-.59-.52 0-1.04.2-1.43.59L10.3 9.45l-7.72 7.72c-.78.78-.78 2.05 0 2.83L4 21.41c.39.39.9.59 1.41.59.51 0 1.02-.2 1.41-.59l7.78-7.78 2.81-2.81c.8-.78.8-2.07 0-2.86zM5.41 20L4 18.59l7.72-7.72 1.47 1.35L5.41 20z\"/>\n",
              "  </svg>\n",
              "      </button>\n",
              "      \n",
              "  <style>\n",
              "    .colab-df-container {\n",
              "      display:flex;\n",
              "      flex-wrap:wrap;\n",
              "      gap: 12px;\n",
              "    }\n",
              "\n",
              "    .colab-df-convert {\n",
              "      background-color: #E8F0FE;\n",
              "      border: none;\n",
              "      border-radius: 50%;\n",
              "      cursor: pointer;\n",
              "      display: none;\n",
              "      fill: #1967D2;\n",
              "      height: 32px;\n",
              "      padding: 0 0 0 0;\n",
              "      width: 32px;\n",
              "    }\n",
              "\n",
              "    .colab-df-convert:hover {\n",
              "      background-color: #E2EBFA;\n",
              "      box-shadow: 0px 1px 2px rgba(60, 64, 67, 0.3), 0px 1px 3px 1px rgba(60, 64, 67, 0.15);\n",
              "      fill: #174EA6;\n",
              "    }\n",
              "\n",
              "    [theme=dark] .colab-df-convert {\n",
              "      background-color: #3B4455;\n",
              "      fill: #D2E3FC;\n",
              "    }\n",
              "\n",
              "    [theme=dark] .colab-df-convert:hover {\n",
              "      background-color: #434B5C;\n",
              "      box-shadow: 0px 1px 3px 1px rgba(0, 0, 0, 0.15);\n",
              "      filter: drop-shadow(0px 1px 2px rgba(0, 0, 0, 0.3));\n",
              "      fill: #FFFFFF;\n",
              "    }\n",
              "  </style>\n",
              "\n",
              "      <script>\n",
              "        const buttonEl =\n",
              "          document.querySelector('#df-4b435204-a5d4-47b9-b4dc-fc8eda1ea19c button.colab-df-convert');\n",
              "        buttonEl.style.display =\n",
              "          google.colab.kernel.accessAllowed ? 'block' : 'none';\n",
              "\n",
              "        async function convertToInteractive(key) {\n",
              "          const element = document.querySelector('#df-4b435204-a5d4-47b9-b4dc-fc8eda1ea19c');\n",
              "          const dataTable =\n",
              "            await google.colab.kernel.invokeFunction('convertToInteractive',\n",
              "                                                     [key], {});\n",
              "          if (!dataTable) return;\n",
              "\n",
              "          const docLinkHtml = 'Like what you see? Visit the ' +\n",
              "            '<a target=\"_blank\" href=https://colab.research.google.com/notebooks/data_table.ipynb>data table notebook</a>'\n",
              "            + ' to learn more about interactive tables.';\n",
              "          element.innerHTML = '';\n",
              "          dataTable['output_type'] = 'display_data';\n",
              "          await google.colab.output.renderOutput(dataTable, element);\n",
              "          const docLink = document.createElement('div');\n",
              "          docLink.innerHTML = docLinkHtml;\n",
              "          element.appendChild(docLink);\n",
              "        }\n",
              "      </script>\n",
              "    </div>\n",
              "  </div>\n",
              "  "
            ]
          },
          "metadata": {},
          "execution_count": 13
        }
      ],
      "source": [
        "applications.sample(5)"
      ]
    },
    {
      "cell_type": "markdown",
      "id": "a8238419-ff3d-4f00-bc36-ad1f4da01920",
      "metadata": {
        "id": "a8238419-ff3d-4f00-bc36-ad1f4da01920"
      },
      "source": [
        "# Quantas candidaturas estão em situação de reeleição?"
      ]
    },
    {
      "cell_type": "code",
      "execution_count": 16,
      "id": "28055dde-c74b-403e-bcc3-deb82a828084",
      "metadata": {
        "colab": {
          "base_uri": "https://localhost:8080/"
        },
        "id": "28055dde-c74b-403e-bcc3-deb82a828084",
        "outputId": "97c7055d-33e4-4317-ae46-0efe479d693d"
      },
      "outputs": [
        {
          "output_type": "execute_result",
          "data": {
            "text/plain": [
              "array(['N', 'S', 'Não divulgável'], dtype=object)"
            ]
          },
          "metadata": {},
          "execution_count": 16
        }
      ],
      "source": [
        "#applications.columns\n",
        "applications['ST_REELEICAO'].unique()"
      ]
    },
    {
      "cell_type": "code",
      "source": [
        "applications['ST_REELEICAO'].value_counts()"
      ],
      "metadata": {
        "id": "oCHY_QzQToJ4",
        "outputId": "f1793698-2b17-403a-d7bb-9af877b6f10a",
        "colab": {
          "base_uri": "https://localhost:8080/"
        }
      },
      "id": "oCHY_QzQToJ4",
      "execution_count": 19,
      "outputs": [
        {
          "output_type": "execute_result",
          "data": {
            "text/plain": [
              "N                 0.948750\n",
              "S                 0.050625\n",
              "Não divulgável    0.000625\n",
              "Name: ST_REELEICAO, dtype: float64"
            ]
          },
          "metadata": {},
          "execution_count": 19
        }
      ]
    },
    {
      "cell_type": "markdown",
      "id": "7cd5434f-9c0d-4fb6-a3ef-ce44498fea2e",
      "metadata": {
        "id": "7cd5434f-9c0d-4fb6-a3ef-ce44498fea2e"
      },
      "source": [
        "# Liste todas a ocupações declaradas pelas candidaturas"
      ]
    },
    {
      "cell_type": "code",
      "execution_count": 18,
      "id": "ef30c1ab-703f-4c65-8ba5-1cde6c183f88",
      "metadata": {
        "colab": {
          "base_uri": "https://localhost:8080/"
        },
        "id": "ef30c1ab-703f-4c65-8ba5-1cde6c183f88",
        "outputId": "450aa081-c01d-498e-91db-966a8366dd60"
      },
      "outputs": [
        {
          "output_type": "execute_result",
          "data": {
            "text/plain": [
              "array(['DEPUTADO ESTADUAL', 'VICE-GOVERNADOR', 'DEPUTADO FEDERAL',\n",
              "       '2º SUPLENTE', '1º SUPLENTE', 'GOVERNADOR', 'SENADOR'],\n",
              "      dtype=object)"
            ]
          },
          "metadata": {},
          "execution_count": 18
        }
      ],
      "source": [
        "applications['DS_CARGO'].unique()"
      ]
    },
    {
      "cell_type": "code",
      "source": [
        "applications_dep_federal = applications[applications['DS_CARGO'] == 'DEPUTADO FEDERAL'].copy()"
      ],
      "metadata": {
        "id": "3CCxmC00VEK1"
      },
      "id": "3CCxmC00VEK1",
      "execution_count": 21,
      "outputs": []
    },
    {
      "cell_type": "code",
      "source": [
        "applications_dep_federal['DS_CARGO'].unique()"
      ],
      "metadata": {
        "id": "E6bzKaPAVYZ2",
        "outputId": "c7f73eaa-bee9-4061-cd22-abc9580f2fda",
        "colab": {
          "base_uri": "https://localhost:8080/"
        }
      },
      "id": "E6bzKaPAVYZ2",
      "execution_count": 23,
      "outputs": [
        {
          "output_type": "execute_result",
          "data": {
            "text/plain": [
              "array(['DEPUTADO FEDERAL'], dtype=object)"
            ]
          },
          "metadata": {},
          "execution_count": 23
        }
      ]
    },
    {
      "cell_type": "code",
      "source": [
        "applications_dep_federal['DS_OCUPACAO'].unique()"
      ],
      "metadata": {
        "id": "ujeOujAFVs6L",
        "outputId": "dd802cb7-2dad-40b9-8e8f-f4aec05b42bc",
        "colab": {
          "base_uri": "https://localhost:8080/"
        }
      },
      "id": "ujeOujAFVs6L",
      "execution_count": 24,
      "outputs": [
        {
          "output_type": "execute_result",
          "data": {
            "text/plain": [
              "array(['ADVOGADO', 'ADMINISTRADOR', 'JORNALISTA E REDATOR',\n",
              "       'SENADOR, DEPUTADO E VEREADOR', 'DEPUTADO', 'OUTROS',\n",
              "       'OCUPANTE DE CARGO EM COMISSÃO', 'POLICIAL MILITAR',\n",
              "       'VENDEDOR DE COMÉRCIO VAREJISTA E ATACADISTA', 'AGRICULTOR',\n",
              "       'APOSENTADO (EXCETO SERVIDOR PÚBLICO)', 'EMPRESÁRIO',\n",
              "       'PROFESSOR DE ENSINO MÉDIO',\n",
              "       'TÉCNICO DE ENFERMAGEM E ASSEMELHADOS (EXCETO ENFERMEIRO)',\n",
              "       'PECUARISTA', 'MÉDICO', 'NUTRICIONISTA E ASSEMELHADOS', 'VEREADOR',\n",
              "       'VETERINÁRIO', 'DIRETOR DE EMPRESAS', 'ENGENHEIRO', 'DONA DE CASA',\n",
              "       'CORRETOR DE IMÓVEIS, SEGUROS, TÍTULOS E VALORES',\n",
              "       'SERVIDOR PÚBLICO FEDERAL', 'ECONOMISTA',\n",
              "       'VENDEDOR PRACISTA, REPRESENTANTE, CAIXEIRO-VIAJANTE E ASSEMELHADOS',\n",
              "       'SACERDOTE OU MEMBRO DE ORDEM OU SEITA RELIGIOSA', 'ENFERMEIRO',\n",
              "       'COMERCIANTE',\n",
              "       'PORTEIRO DE EDIFÍCIO, ASCENSORISTA, GARAGISTA E ZELADOR',\n",
              "       'PROFESSOR DE ENSINO FUNDAMENTAL', 'CONTADOR', 'MOTOBOY',\n",
              "       'SERVIDOR PÚBLICO CIVIL APOSENTADO',\n",
              "       'PRODUTOR DE ESPETÁCULOS PÚBLICOS', 'BIÓLOGO',\n",
              "       'PROFESSOR DE ENSINO SUPERIOR', 'MILITAR REFORMADO',\n",
              "       'TÉCNICO EM INFORMÁTICA', 'POLICIAL CIVIL', 'FONOAUDIÓLOGO',\n",
              "       'PEDAGOGO', 'BANCÁRIO E ECONOMIÁRIO', 'SERVIDOR PÚBLICO MUNICIPAL',\n",
              "       'MEMBRO DAS FORÇAS ARMADAS',\n",
              "       'LOCUTOR E COMENTARISTA DE RÁDIO E TELEVISÃO E RADIALISTA',\n",
              "       'ASSISTENTE SOCIAL', 'ODONTÓLOGO', 'AGENTE ADMINISTRATIVO',\n",
              "       'SERVIDOR PÚBLICO ESTADUAL', 'SOCIÓLOGO',\n",
              "       'ESTUDANTE, BOLSISTA, ESTAGIÁRIO E ASSEMELHADOS',\n",
              "       'BOMBEIRO MILITAR', 'ZOOTECNISTA',\n",
              "       'ATLETA PROFISSIONAL E TÉCNICO EM DESPORTOS',\n",
              "       'PROFESSOR E INSTRUTOR DE FORMAÇÃO PROFISSIONAL',\n",
              "       'SECRETÁRIO E DATILÓGRAFO',\n",
              "       'AUXILIAR DE ESCRITÓRIO E ASSEMELHADOS', 'MOTORISTA PARTICULAR',\n",
              "       'GARIMPEIRO', 'ESTETICISTA', 'VIGILANTE',\n",
              "       'CARPINTEIRO, MARCENEIRO E ASSEMELHADOS',\n",
              "       'SUPERVISOR, INSPETOR E AGENTE DE COMPRAS E VENDAS', 'COMERCIÁRIO',\n",
              "       'ANALISTA DE SISTEMAS',\n",
              "       'TÉCNICO DE OBRAS CIVIS, ESTRADAS, SANEAMENTO E ASSEMELHADOS',\n",
              "       'CANTOR E COMPOSITOR', 'FISIOTERAPEUTA E TERAPEUTA OCUPACIONAL',\n",
              "       'PESCADOR', 'RECEPCIONISTA', 'ARQUITETO', 'MASSAGISTA'],\n",
              "      dtype=object)"
            ]
          },
          "metadata": {},
          "execution_count": 24
        }
      ]
    },
    {
      "cell_type": "markdown",
      "id": "f92cd033-7c9a-47ac-acad-d5db0035e6ff",
      "metadata": {
        "id": "f92cd033-7c9a-47ac-acad-d5db0035e6ff"
      },
      "source": [
        "# Quantos anos tem a pessoa candidata mais velha?"
      ]
    },
    {
      "cell_type": "code",
      "execution_count": 25,
      "id": "53b023a1-812e-4587-897d-703bf0a2a746",
      "metadata": {
        "colab": {
          "base_uri": "https://localhost:8080/"
        },
        "id": "53b023a1-812e-4587-897d-703bf0a2a746",
        "outputId": "e89c5060-5a94-4381-be1b-4b5db36b313d"
      },
      "outputs": [
        {
          "output_type": "execute_result",
          "data": {
            "text/plain": [
              "81.0"
            ]
          },
          "metadata": {},
          "execution_count": 25
        }
      ],
      "source": [
        "applications['NR_IDADE_DATA_POSSE'].max()"
      ]
    },
    {
      "cell_type": "markdown",
      "id": "de5c48c3-c0b9-418c-bba2-bb20c5312bd8",
      "metadata": {
        "id": "de5c48c3-c0b9-418c-bba2-bb20c5312bd8"
      },
      "source": [
        "# Quantos anos tem a pessoa candidata mais jovem?"
      ]
    },
    {
      "cell_type": "code",
      "execution_count": 26,
      "id": "19c454cb-784f-48ab-8a82-61343b045bb8",
      "metadata": {
        "colab": {
          "base_uri": "https://localhost:8080/"
        },
        "id": "19c454cb-784f-48ab-8a82-61343b045bb8",
        "outputId": "86666894-919a-4b5d-87da-2a73af4daa13"
      },
      "outputs": [
        {
          "output_type": "execute_result",
          "data": {
            "text/plain": [
              "19.0"
            ]
          },
          "metadata": {},
          "execution_count": 26
        }
      ],
      "source": [
        "applications['NR_IDADE_DATA_POSSE'].min()"
      ]
    },
    {
      "cell_type": "markdown",
      "id": "f18ae4e7-ccca-4152-9971-65c543847936",
      "metadata": {
        "id": "f18ae4e7-ccca-4152-9971-65c543847936"
      },
      "source": [
        "# Qual é o nome da pessoa candidata mais velha?"
      ]
    },
    {
      "cell_type": "code",
      "execution_count": 29,
      "id": "c7059bae-72e9-4c4b-ae70-71c9085b2a1f",
      "metadata": {
        "colab": {
          "base_uri": "https://localhost:8080/"
        },
        "id": "c7059bae-72e9-4c4b-ae70-71c9085b2a1f",
        "outputId": "73de1af4-521f-4a31-d9e7-ed8fdd032464"
      },
      "outputs": [
        {
          "output_type": "execute_result",
          "data": {
            "text/plain": [
              "49    MARIA DE LOURDES PEREIRA DE FARIAS\n",
              "Name: NM_CANDIDATO, dtype: object"
            ]
          },
          "metadata": {},
          "execution_count": 29
        }
      ],
      "source": [
        "applications[applications['NR_IDADE_DATA_POSSE'] == applications['NR_IDADE_DATA_POSSE'].max()].copy()['NM_CANDIDATO']"
      ]
    },
    {
      "cell_type": "markdown",
      "id": "f6ddfb4c-7012-4f0b-befb-f44cde4c06a8",
      "metadata": {
        "id": "f6ddfb4c-7012-4f0b-befb-f44cde4c06a8"
      },
      "source": [
        "# Quantas candidaturas existem para \"Deputado federal\" seu estado?"
      ]
    },
    {
      "cell_type": "code",
      "execution_count": 31,
      "id": "ae815f6f-7403-4067-af0b-175b21f45172",
      "metadata": {
        "colab": {
          "base_uri": "https://localhost:8080/"
        },
        "id": "ae815f6f-7403-4067-af0b-175b21f45172",
        "outputId": "3851a885-e04f-4b92-9869-f0b48781e622"
      },
      "outputs": [
        {
          "output_type": "execute_result",
          "data": {
            "text/plain": [
              "477"
            ]
          },
          "metadata": {},
          "execution_count": 31
        }
      ],
      "source": [
        "applications_dep_federal.shape[0]"
      ]
    },
    {
      "cell_type": "markdown",
      "id": "6658e4f9-9271-4f0e-b6f8-575e33e5d8c9",
      "metadata": {
        "id": "6658e4f9-9271-4f0e-b6f8-575e33e5d8c9"
      },
      "source": [
        "# Qual é a média do valor máximo de despesas de campanha?"
      ]
    },
    {
      "cell_type": "code",
      "execution_count": 32,
      "id": "1b8283db-c218-44cd-908b-e4a2f041a435",
      "metadata": {
        "colab": {
          "base_uri": "https://localhost:8080/",
          "height": 394
        },
        "id": "1b8283db-c218-44cd-908b-e4a2f041a435",
        "outputId": "72e63eb1-18b3-42b0-a6bc-662b1f854eec"
      },
      "outputs": [
        {
          "output_type": "execute_result",
          "data": {
            "text/plain": [
              "       ANO_ELEICAO  CD_TIPO_ELEICAO  NR_TURNO  CD_ELEICAO     CD_CARGO  \\\n",
              "count       1600.0           1600.0    1600.0      1600.0  1600.000000   \n",
              "mean        2022.0              2.0       1.0       546.0     6.693125   \n",
              "std            0.0              0.0       0.0         0.0     0.849649   \n",
              "min         2022.0              2.0       1.0       546.0     3.000000   \n",
              "25%         2022.0              2.0       1.0       546.0     6.000000   \n",
              "50%         2022.0              2.0       1.0       546.0     7.000000   \n",
              "75%         2022.0              2.0       1.0       546.0     7.000000   \n",
              "max         2022.0              2.0       1.0       546.0    10.000000   \n",
              "\n",
              "       SQ_CANDIDATO  NR_CANDIDATO  NR_CPF_CANDIDATO  CD_SITUACAO_CANDIDATURA  \\\n",
              "count  1.600000e+03   1600.000000      1.600000e+03              1600.000000   \n",
              "mean   1.017079e+11  21303.939375      4.481721e+10                10.925625   \n",
              "std    5.241774e+10  22336.413543      2.808682e+10                 2.918976   \n",
              "min    3.000160e+10     15.000000     -4.000000e+00                 3.000000   \n",
              "25%    3.000164e+10   3639.250000      2.102160e+10                12.000000   \n",
              "50%    1.400016e+11  14110.500000      4.322567e+10                12.000000   \n",
              "75%    1.400017e+11  28777.250000      6.771131e+10                12.000000   \n",
              "max    1.400017e+11  90999.000000      9.983241e+10                12.000000   \n",
              "\n",
              "       CD_DETALHE_SITUACAO_CAND  ...  CD_ESTADO_CIVIL  CD_COR_RACA  \\\n",
              "count               1600.000000  ...      1600.000000  1600.000000   \n",
              "mean                   3.086875  ...         2.855625     2.263125   \n",
              "std                    3.238963  ...         2.318003     0.916878   \n",
              "min                    2.000000  ...        -4.000000    -4.000000   \n",
              "25%                    2.000000  ...         1.000000     1.000000   \n",
              "50%                    2.000000  ...         3.000000     3.000000   \n",
              "75%                    2.000000  ...         3.000000     3.000000   \n",
              "max                   14.000000  ...         9.000000     5.000000   \n",
              "\n",
              "       CD_OCUPACAO  VR_DESPESA_MAX_CAMPANHA  CD_SIT_TOT_TURNO  \\\n",
              "count  1600.000000             1.529000e+03       1476.000000   \n",
              "mean    407.177500             1.968852e+06          4.386179   \n",
              "std     319.976337             1.178961e+06          0.771474   \n",
              "min      -4.000000            -4.000000e+00          1.000000   \n",
              "25%     171.750000             1.270629e+06          4.000000   \n",
              "50%     265.000000             1.270629e+06          5.000000   \n",
              "75%     581.000000             3.176573e+06          5.000000   \n",
              "max     999.000000             1.156272e+07          5.000000   \n",
              "\n",
              "       NR_PROTOCOLO_CANDIDATURA   NR_PROCESSO  CD_SITUACAO_CANDIDATO_PLEITO  \\\n",
              "count                       0.0  1.600000e+03                   1476.000000   \n",
              "mean                        NaN  6.006838e+18                      2.213415   \n",
              "std                         NaN  3.288632e+15                      1.341331   \n",
              "min                         NaN  6.001610e+18                      2.000000   \n",
              "25%                         NaN  6.004122e+18                      2.000000   \n",
              "50%                         NaN  6.006361e+18                      2.000000   \n",
              "75%                         NaN  6.009286e+18                      2.000000   \n",
              "max                         NaN  6.023764e+18                     17.000000   \n",
              "\n",
              "       CD_SITUACAO_CANDIDATO_URNA  CD_SITUACAO_CANDIDATO_TOT  \n",
              "count                 1476.000000                1476.000000  \n",
              "mean                     2.313686                   2.213415  \n",
              "std                      1.860156                   1.341331  \n",
              "min                      2.000000                   2.000000  \n",
              "25%                      2.000000                   2.000000  \n",
              "50%                      2.000000                   2.000000  \n",
              "75%                      2.000000                   2.000000  \n",
              "max                     17.000000                  17.000000  \n",
              "\n",
              "[8 rows x 29 columns]"
            ],
            "text/html": [
              "\n",
              "  <div id=\"df-b9f6d823-30df-46b2-97cc-ff583cbc7028\">\n",
              "    <div class=\"colab-df-container\">\n",
              "      <div>\n",
              "<style scoped>\n",
              "    .dataframe tbody tr th:only-of-type {\n",
              "        vertical-align: middle;\n",
              "    }\n",
              "\n",
              "    .dataframe tbody tr th {\n",
              "        vertical-align: top;\n",
              "    }\n",
              "\n",
              "    .dataframe thead th {\n",
              "        text-align: right;\n",
              "    }\n",
              "</style>\n",
              "<table border=\"1\" class=\"dataframe\">\n",
              "  <thead>\n",
              "    <tr style=\"text-align: right;\">\n",
              "      <th></th>\n",
              "      <th>ANO_ELEICAO</th>\n",
              "      <th>CD_TIPO_ELEICAO</th>\n",
              "      <th>NR_TURNO</th>\n",
              "      <th>CD_ELEICAO</th>\n",
              "      <th>CD_CARGO</th>\n",
              "      <th>SQ_CANDIDATO</th>\n",
              "      <th>NR_CANDIDATO</th>\n",
              "      <th>NR_CPF_CANDIDATO</th>\n",
              "      <th>CD_SITUACAO_CANDIDATURA</th>\n",
              "      <th>CD_DETALHE_SITUACAO_CAND</th>\n",
              "      <th>...</th>\n",
              "      <th>CD_ESTADO_CIVIL</th>\n",
              "      <th>CD_COR_RACA</th>\n",
              "      <th>CD_OCUPACAO</th>\n",
              "      <th>VR_DESPESA_MAX_CAMPANHA</th>\n",
              "      <th>CD_SIT_TOT_TURNO</th>\n",
              "      <th>NR_PROTOCOLO_CANDIDATURA</th>\n",
              "      <th>NR_PROCESSO</th>\n",
              "      <th>CD_SITUACAO_CANDIDATO_PLEITO</th>\n",
              "      <th>CD_SITUACAO_CANDIDATO_URNA</th>\n",
              "      <th>CD_SITUACAO_CANDIDATO_TOT</th>\n",
              "    </tr>\n",
              "  </thead>\n",
              "  <tbody>\n",
              "    <tr>\n",
              "      <th>count</th>\n",
              "      <td>1600.0</td>\n",
              "      <td>1600.0</td>\n",
              "      <td>1600.0</td>\n",
              "      <td>1600.0</td>\n",
              "      <td>1600.000000</td>\n",
              "      <td>1.600000e+03</td>\n",
              "      <td>1600.000000</td>\n",
              "      <td>1.600000e+03</td>\n",
              "      <td>1600.000000</td>\n",
              "      <td>1600.000000</td>\n",
              "      <td>...</td>\n",
              "      <td>1600.000000</td>\n",
              "      <td>1600.000000</td>\n",
              "      <td>1600.000000</td>\n",
              "      <td>1.529000e+03</td>\n",
              "      <td>1476.000000</td>\n",
              "      <td>0.0</td>\n",
              "      <td>1.600000e+03</td>\n",
              "      <td>1476.000000</td>\n",
              "      <td>1476.000000</td>\n",
              "      <td>1476.000000</td>\n",
              "    </tr>\n",
              "    <tr>\n",
              "      <th>mean</th>\n",
              "      <td>2022.0</td>\n",
              "      <td>2.0</td>\n",
              "      <td>1.0</td>\n",
              "      <td>546.0</td>\n",
              "      <td>6.693125</td>\n",
              "      <td>1.017079e+11</td>\n",
              "      <td>21303.939375</td>\n",
              "      <td>4.481721e+10</td>\n",
              "      <td>10.925625</td>\n",
              "      <td>3.086875</td>\n",
              "      <td>...</td>\n",
              "      <td>2.855625</td>\n",
              "      <td>2.263125</td>\n",
              "      <td>407.177500</td>\n",
              "      <td>1.968852e+06</td>\n",
              "      <td>4.386179</td>\n",
              "      <td>NaN</td>\n",
              "      <td>6.006838e+18</td>\n",
              "      <td>2.213415</td>\n",
              "      <td>2.313686</td>\n",
              "      <td>2.213415</td>\n",
              "    </tr>\n",
              "    <tr>\n",
              "      <th>std</th>\n",
              "      <td>0.0</td>\n",
              "      <td>0.0</td>\n",
              "      <td>0.0</td>\n",
              "      <td>0.0</td>\n",
              "      <td>0.849649</td>\n",
              "      <td>5.241774e+10</td>\n",
              "      <td>22336.413543</td>\n",
              "      <td>2.808682e+10</td>\n",
              "      <td>2.918976</td>\n",
              "      <td>3.238963</td>\n",
              "      <td>...</td>\n",
              "      <td>2.318003</td>\n",
              "      <td>0.916878</td>\n",
              "      <td>319.976337</td>\n",
              "      <td>1.178961e+06</td>\n",
              "      <td>0.771474</td>\n",
              "      <td>NaN</td>\n",
              "      <td>3.288632e+15</td>\n",
              "      <td>1.341331</td>\n",
              "      <td>1.860156</td>\n",
              "      <td>1.341331</td>\n",
              "    </tr>\n",
              "    <tr>\n",
              "      <th>min</th>\n",
              "      <td>2022.0</td>\n",
              "      <td>2.0</td>\n",
              "      <td>1.0</td>\n",
              "      <td>546.0</td>\n",
              "      <td>3.000000</td>\n",
              "      <td>3.000160e+10</td>\n",
              "      <td>15.000000</td>\n",
              "      <td>-4.000000e+00</td>\n",
              "      <td>3.000000</td>\n",
              "      <td>2.000000</td>\n",
              "      <td>...</td>\n",
              "      <td>-4.000000</td>\n",
              "      <td>-4.000000</td>\n",
              "      <td>-4.000000</td>\n",
              "      <td>-4.000000e+00</td>\n",
              "      <td>1.000000</td>\n",
              "      <td>NaN</td>\n",
              "      <td>6.001610e+18</td>\n",
              "      <td>2.000000</td>\n",
              "      <td>2.000000</td>\n",
              "      <td>2.000000</td>\n",
              "    </tr>\n",
              "    <tr>\n",
              "      <th>25%</th>\n",
              "      <td>2022.0</td>\n",
              "      <td>2.0</td>\n",
              "      <td>1.0</td>\n",
              "      <td>546.0</td>\n",
              "      <td>6.000000</td>\n",
              "      <td>3.000164e+10</td>\n",
              "      <td>3639.250000</td>\n",
              "      <td>2.102160e+10</td>\n",
              "      <td>12.000000</td>\n",
              "      <td>2.000000</td>\n",
              "      <td>...</td>\n",
              "      <td>1.000000</td>\n",
              "      <td>1.000000</td>\n",
              "      <td>171.750000</td>\n",
              "      <td>1.270629e+06</td>\n",
              "      <td>4.000000</td>\n",
              "      <td>NaN</td>\n",
              "      <td>6.004122e+18</td>\n",
              "      <td>2.000000</td>\n",
              "      <td>2.000000</td>\n",
              "      <td>2.000000</td>\n",
              "    </tr>\n",
              "    <tr>\n",
              "      <th>50%</th>\n",
              "      <td>2022.0</td>\n",
              "      <td>2.0</td>\n",
              "      <td>1.0</td>\n",
              "      <td>546.0</td>\n",
              "      <td>7.000000</td>\n",
              "      <td>1.400016e+11</td>\n",
              "      <td>14110.500000</td>\n",
              "      <td>4.322567e+10</td>\n",
              "      <td>12.000000</td>\n",
              "      <td>2.000000</td>\n",
              "      <td>...</td>\n",
              "      <td>3.000000</td>\n",
              "      <td>3.000000</td>\n",
              "      <td>265.000000</td>\n",
              "      <td>1.270629e+06</td>\n",
              "      <td>5.000000</td>\n",
              "      <td>NaN</td>\n",
              "      <td>6.006361e+18</td>\n",
              "      <td>2.000000</td>\n",
              "      <td>2.000000</td>\n",
              "      <td>2.000000</td>\n",
              "    </tr>\n",
              "    <tr>\n",
              "      <th>75%</th>\n",
              "      <td>2022.0</td>\n",
              "      <td>2.0</td>\n",
              "      <td>1.0</td>\n",
              "      <td>546.0</td>\n",
              "      <td>7.000000</td>\n",
              "      <td>1.400017e+11</td>\n",
              "      <td>28777.250000</td>\n",
              "      <td>6.771131e+10</td>\n",
              "      <td>12.000000</td>\n",
              "      <td>2.000000</td>\n",
              "      <td>...</td>\n",
              "      <td>3.000000</td>\n",
              "      <td>3.000000</td>\n",
              "      <td>581.000000</td>\n",
              "      <td>3.176573e+06</td>\n",
              "      <td>5.000000</td>\n",
              "      <td>NaN</td>\n",
              "      <td>6.009286e+18</td>\n",
              "      <td>2.000000</td>\n",
              "      <td>2.000000</td>\n",
              "      <td>2.000000</td>\n",
              "    </tr>\n",
              "    <tr>\n",
              "      <th>max</th>\n",
              "      <td>2022.0</td>\n",
              "      <td>2.0</td>\n",
              "      <td>1.0</td>\n",
              "      <td>546.0</td>\n",
              "      <td>10.000000</td>\n",
              "      <td>1.400017e+11</td>\n",
              "      <td>90999.000000</td>\n",
              "      <td>9.983241e+10</td>\n",
              "      <td>12.000000</td>\n",
              "      <td>14.000000</td>\n",
              "      <td>...</td>\n",
              "      <td>9.000000</td>\n",
              "      <td>5.000000</td>\n",
              "      <td>999.000000</td>\n",
              "      <td>1.156272e+07</td>\n",
              "      <td>5.000000</td>\n",
              "      <td>NaN</td>\n",
              "      <td>6.023764e+18</td>\n",
              "      <td>17.000000</td>\n",
              "      <td>17.000000</td>\n",
              "      <td>17.000000</td>\n",
              "    </tr>\n",
              "  </tbody>\n",
              "</table>\n",
              "<p>8 rows × 29 columns</p>\n",
              "</div>\n",
              "      <button class=\"colab-df-convert\" onclick=\"convertToInteractive('df-b9f6d823-30df-46b2-97cc-ff583cbc7028')\"\n",
              "              title=\"Convert this dataframe to an interactive table.\"\n",
              "              style=\"display:none;\">\n",
              "        \n",
              "  <svg xmlns=\"http://www.w3.org/2000/svg\" height=\"24px\"viewBox=\"0 0 24 24\"\n",
              "       width=\"24px\">\n",
              "    <path d=\"M0 0h24v24H0V0z\" fill=\"none\"/>\n",
              "    <path d=\"M18.56 5.44l.94 2.06.94-2.06 2.06-.94-2.06-.94-.94-2.06-.94 2.06-2.06.94zm-11 1L8.5 8.5l.94-2.06 2.06-.94-2.06-.94L8.5 2.5l-.94 2.06-2.06.94zm10 10l.94 2.06.94-2.06 2.06-.94-2.06-.94-.94-2.06-.94 2.06-2.06.94z\"/><path d=\"M17.41 7.96l-1.37-1.37c-.4-.4-.92-.59-1.43-.59-.52 0-1.04.2-1.43.59L10.3 9.45l-7.72 7.72c-.78.78-.78 2.05 0 2.83L4 21.41c.39.39.9.59 1.41.59.51 0 1.02-.2 1.41-.59l7.78-7.78 2.81-2.81c.8-.78.8-2.07 0-2.86zM5.41 20L4 18.59l7.72-7.72 1.47 1.35L5.41 20z\"/>\n",
              "  </svg>\n",
              "      </button>\n",
              "      \n",
              "  <style>\n",
              "    .colab-df-container {\n",
              "      display:flex;\n",
              "      flex-wrap:wrap;\n",
              "      gap: 12px;\n",
              "    }\n",
              "\n",
              "    .colab-df-convert {\n",
              "      background-color: #E8F0FE;\n",
              "      border: none;\n",
              "      border-radius: 50%;\n",
              "      cursor: pointer;\n",
              "      display: none;\n",
              "      fill: #1967D2;\n",
              "      height: 32px;\n",
              "      padding: 0 0 0 0;\n",
              "      width: 32px;\n",
              "    }\n",
              "\n",
              "    .colab-df-convert:hover {\n",
              "      background-color: #E2EBFA;\n",
              "      box-shadow: 0px 1px 2px rgba(60, 64, 67, 0.3), 0px 1px 3px 1px rgba(60, 64, 67, 0.15);\n",
              "      fill: #174EA6;\n",
              "    }\n",
              "\n",
              "    [theme=dark] .colab-df-convert {\n",
              "      background-color: #3B4455;\n",
              "      fill: #D2E3FC;\n",
              "    }\n",
              "\n",
              "    [theme=dark] .colab-df-convert:hover {\n",
              "      background-color: #434B5C;\n",
              "      box-shadow: 0px 1px 3px 1px rgba(0, 0, 0, 0.15);\n",
              "      filter: drop-shadow(0px 1px 2px rgba(0, 0, 0, 0.3));\n",
              "      fill: #FFFFFF;\n",
              "    }\n",
              "  </style>\n",
              "\n",
              "      <script>\n",
              "        const buttonEl =\n",
              "          document.querySelector('#df-b9f6d823-30df-46b2-97cc-ff583cbc7028 button.colab-df-convert');\n",
              "        buttonEl.style.display =\n",
              "          google.colab.kernel.accessAllowed ? 'block' : 'none';\n",
              "\n",
              "        async function convertToInteractive(key) {\n",
              "          const element = document.querySelector('#df-b9f6d823-30df-46b2-97cc-ff583cbc7028');\n",
              "          const dataTable =\n",
              "            await google.colab.kernel.invokeFunction('convertToInteractive',\n",
              "                                                     [key], {});\n",
              "          if (!dataTable) return;\n",
              "\n",
              "          const docLinkHtml = 'Like what you see? Visit the ' +\n",
              "            '<a target=\"_blank\" href=https://colab.research.google.com/notebooks/data_table.ipynb>data table notebook</a>'\n",
              "            + ' to learn more about interactive tables.';\n",
              "          element.innerHTML = '';\n",
              "          dataTable['output_type'] = 'display_data';\n",
              "          await google.colab.output.renderOutput(dataTable, element);\n",
              "          const docLink = document.createElement('div');\n",
              "          docLink.innerHTML = docLinkHtml;\n",
              "          element.appendChild(docLink);\n",
              "        }\n",
              "      </script>\n",
              "    </div>\n",
              "  </div>\n",
              "  "
            ]
          },
          "metadata": {},
          "execution_count": 32
        }
      ],
      "source": [
        "applications.describe()"
      ]
    },
    {
      "cell_type": "code",
      "source": [
        "mean = applications['VR_DESPESA_MAX_CAMPANHA'].mean()\n",
        "mean = round(mean, 2)"
      ],
      "metadata": {
        "id": "xi3Fw73Ybujy"
      },
      "id": "xi3Fw73Ybujy",
      "execution_count": 33,
      "outputs": []
    }
  ],
  "metadata": {
    "kernelspec": {
      "display_name": "Python 3 (ipykernel)",
      "language": "python",
      "name": "python3"
    },
    "language_info": {
      "codemirror_mode": {
        "name": "ipython",
        "version": 3
      },
      "file_extension": ".py",
      "mimetype": "text/x-python",
      "name": "python",
      "nbconvert_exporter": "python",
      "pygments_lexer": "ipython3",
      "version": "3.10.6"
    },
    "colab": {
      "provenance": []
    }
  },
  "nbformat": 4,
  "nbformat_minor": 5
}