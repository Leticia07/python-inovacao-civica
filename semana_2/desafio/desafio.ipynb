{
 "cells": [
  {
   "attachments": {},
   "cell_type": "markdown",
   "id": "0badcac0",
   "metadata": {},
   "source": [
    "# Limpeza de dados e estatística descritiva\n",
    "\n",
    "Neste desafio colocaremos em prática alguns conceitos apresentado nas aulas. Para isso, usaremos o conjunto de dados [Prestação de contas eleitorais - 2020](https://dadosabertos.tse.jus.br/dataset/prestacao-de-contas-eleitorais-2020) disponível no Portal de Dados Abertos do Tribunal Superior Eleitoral.\n",
    "\n",
    "Os dados também podem ser encontrados na pasta \"Dados\" deste repositório.\n",
    "\n",
    "Preencha as lacunas abaixo para completar o desafio."
   ]
  },
  {
   "attachments": {},
   "cell_type": "markdown",
   "id": "0c16060f",
   "metadata": {},
   "source": [
    "# Importe os pacotes necessários"
   ]
  },
  {
   "cell_type": "code",
   "execution_count": 140,
   "id": "202e0b71",
   "metadata": {},
   "outputs": [
    {
     "name": "stdout",
     "output_type": "stream",
     "text": [
      "Requirement already satisfied: pandas in c:\\users\\letic\\appdata\\local\\programs\\python\\python311\\lib\\site-packages (2.0.3)\n",
      "Requirement already satisfied: python-dateutil>=2.8.2 in c:\\users\\letic\\appdata\\roaming\\python\\python311\\site-packages (from pandas) (2.8.2)\n",
      "Requirement already satisfied: pytz>=2020.1 in c:\\users\\letic\\appdata\\local\\programs\\python\\python311\\lib\\site-packages (from pandas) (2023.3)\n",
      "Requirement already satisfied: tzdata>=2022.1 in c:\\users\\letic\\appdata\\local\\programs\\python\\python311\\lib\\site-packages (from pandas) (2023.3)\n",
      "Requirement already satisfied: numpy>=1.21.0 in c:\\users\\letic\\appdata\\local\\programs\\python\\python311\\lib\\site-packages (from pandas) (1.25.0)\n",
      "Requirement already satisfied: six>=1.5 in c:\\users\\letic\\appdata\\roaming\\python\\python311\\site-packages (from python-dateutil>=2.8.2->pandas) (1.16.0)\n"
     ]
    },
    {
     "name": "stderr",
     "output_type": "stream",
     "text": [
      "\n",
      "[notice] A new release of pip is available: 23.0.1 -> 23.1.2\n",
      "[notice] To update, run: python.exe -m pip install --upgrade pip\n"
     ]
    },
    {
     "name": "stdout",
     "output_type": "stream",
     "text": [
      "Requirement already satisfied: numpy in c:\\users\\letic\\appdata\\local\\programs\\python\\python311\\lib\\site-packages (1.25.0)\n"
     ]
    },
    {
     "name": "stderr",
     "output_type": "stream",
     "text": [
      "\n",
      "[notice] A new release of pip is available: 23.0.1 -> 23.1.2\n",
      "[notice] To update, run: python.exe -m pip install --upgrade pip\n"
     ]
    },
    {
     "name": "stdout",
     "output_type": "stream",
     "text": [
      "Requirement already satisfied: matplotlib in c:\\users\\letic\\appdata\\local\\programs\\python\\python311\\lib\\site-packages (3.7.2)\n",
      "Requirement already satisfied: contourpy>=1.0.1 in c:\\users\\letic\\appdata\\local\\programs\\python\\python311\\lib\\site-packages (from matplotlib) (1.1.0)\n",
      "Requirement already satisfied: cycler>=0.10 in c:\\users\\letic\\appdata\\local\\programs\\python\\python311\\lib\\site-packages (from matplotlib) (0.11.0)\n",
      "Requirement already satisfied: fonttools>=4.22.0 in c:\\users\\letic\\appdata\\local\\programs\\python\\python311\\lib\\site-packages (from matplotlib) (4.40.0)\n",
      "Requirement already satisfied: kiwisolver>=1.0.1 in c:\\users\\letic\\appdata\\local\\programs\\python\\python311\\lib\\site-packages (from matplotlib) (1.4.4)\n",
      "Requirement already satisfied: numpy>=1.20 in c:\\users\\letic\\appdata\\local\\programs\\python\\python311\\lib\\site-packages (from matplotlib) (1.25.0)\n",
      "Requirement already satisfied: packaging>=20.0 in c:\\users\\letic\\appdata\\local\\programs\\python\\python311\\lib\\site-packages (from matplotlib) (23.0)\n",
      "Requirement already satisfied: pillow>=6.2.0 in c:\\users\\letic\\appdata\\local\\programs\\python\\python311\\lib\\site-packages (from matplotlib) (10.0.0)\n",
      "Requirement already satisfied: pyparsing<3.1,>=2.3.1 in c:\\users\\letic\\appdata\\local\\programs\\python\\python311\\lib\\site-packages (from matplotlib) (3.0.9)\n",
      "Requirement already satisfied: python-dateutil>=2.7 in c:\\users\\letic\\appdata\\roaming\\python\\python311\\site-packages (from matplotlib) (2.8.2)\n",
      "Requirement already satisfied: six>=1.5 in c:\\users\\letic\\appdata\\roaming\\python\\python311\\site-packages (from python-dateutil>=2.7->matplotlib) (1.16.0)\n"
     ]
    },
    {
     "name": "stderr",
     "output_type": "stream",
     "text": [
      "\n",
      "[notice] A new release of pip is available: 23.0.1 -> 23.1.2\n",
      "[notice] To update, run: python.exe -m pip install --upgrade pip\n"
     ]
    }
   ],
   "source": [
    "!pip install pandas\n",
    "!pip install numpy\n",
    "!pip install matplotlib"
   ]
  },
  {
   "cell_type": "code",
   "execution_count": 141,
   "id": "4e8e21b1",
   "metadata": {},
   "outputs": [],
   "source": [
    "import pandas as pd\n",
    "import numpy as np\n",
    "import matplotlib.pyplot as plt"
   ]
  },
  {
   "attachments": {},
   "cell_type": "markdown",
   "id": "bf75d21a",
   "metadata": {},
   "source": [
    "# Leia o arquivo \"receitas_orgaos_partidarios_2020_NORTE.csv\" que está na pasta dados desse repositório, usando o Pandas\n",
    "\n",
    "Na aula `1.10 - Outliers e valores faltantes`, vimos como utilizar o método `replace` para substituir valores em certos colunas do nosso dataframe e trocar o texto (string) `#NULO#` pela representação padrão do Pandas para valores nulos.\n",
    "\n",
    "Aqui, vamos utilizar um outro método, onde definimos quais strings serão considerados valores nulos já na importação do arquivo.\n",
    "\n",
    "Edite as células abaixo e inclua:\n",
    "\n",
    "* O nome do arquivo que queremos importar\n",
    "* O separador utilizado\n",
    "* Insira uma lista no parâmetro `na_values` que contenha o texto a ser ignorado.\n",
    "\n",
    "Experimente rodar os comandos primeiro sem e depois com o parâmetro `na_values`, então, compare a diferença. Observe, por exemplo, o campo `CD_CNAE_DOADOR`."
   ]
  },
  {
   "cell_type": "code",
   "execution_count": 142,
   "id": "0b8e6b56",
   "metadata": {},
   "outputs": [
    {
     "name": "stdout",
     "output_type": "stream",
     "text": [
      "<class 'pandas.core.frame.DataFrame'>\n",
      "RangeIndex: 6052 entries, 0 to 6051\n",
      "Data columns (total 48 columns):\n",
      " #   Column                       Non-Null Count  Dtype  \n",
      "---  ------                       --------------  -----  \n",
      " 0   DT_GERACAO                   6052 non-null   object \n",
      " 1   HH_GERACAO                   6052 non-null   object \n",
      " 2   ANO_ELEICAO                  6052 non-null   int64  \n",
      " 3   CD_TIPO_ELEICAO              6052 non-null   int64  \n",
      " 4   NM_TIPO_ELEICAO              6052 non-null   object \n",
      " 5   TP_PRESTACAO_CONTAS          6052 non-null   object \n",
      " 6   DT_PRESTACAO_CONTAS          6052 non-null   object \n",
      " 7   SQ_PRESTADOR_CONTAS          6052 non-null   int64  \n",
      " 8   CD_ESFERA_PARTIDARIA         6052 non-null   object \n",
      " 9   DS_ESFERA_PARTIDARIA         6052 non-null   object \n",
      " 10  SG_UF                        6052 non-null   object \n",
      " 11  CD_MUNICIPIO                 5043 non-null   float64\n",
      " 12  NM_MUNICIPIO                 5043 non-null   object \n",
      " 13  NR_CNPJ_PRESTADOR_CONTA      6052 non-null   int64  \n",
      " 14  NR_PARTIDO                   6052 non-null   int64  \n",
      " 15  SG_PARTIDO                   6052 non-null   object \n",
      " 16  NM_PARTIDO                   6052 non-null   object \n",
      " 17  CD_FONTE_RECEITA             6052 non-null   int64  \n",
      " 18  DS_FONTE_RECEITA             6052 non-null   object \n",
      " 19  CD_ORIGEM_RECEITA            6052 non-null   int64  \n",
      " 20  DS_ORIGEM_RECEITA            6052 non-null   object \n",
      " 21  CD_NATUREZA_RECEITA          6052 non-null   int64  \n",
      " 22  DS_NATUREZA_RECEITA          6052 non-null   object \n",
      " 23  CD_ESPECIE_RECEITA           6052 non-null   int64  \n",
      " 24  DS_ESPECIE_RECEITA           6052 non-null   object \n",
      " 25  CD_CNAE_DOADOR               3033 non-null   float64\n",
      " 26  DS_CNAE_DOADOR               3033 non-null   object \n",
      " 27  NR_CPF_CNPJ_DOADOR           6016 non-null   float64\n",
      " 28  NM_DOADOR                    6016 non-null   object \n",
      " 29  NM_DOADOR_RFB                6016 non-null   object \n",
      " 30  CD_ESFERA_PARTIDARIA_DOADOR  2071 non-null   object \n",
      " 31  DS_ESFERA_PARTIDARIA_DOADOR  2071 non-null   object \n",
      " 32  SG_UF_DOADOR                 3033 non-null   object \n",
      " 33  CD_MUNICIPIO_DOADOR          1092 non-null   float64\n",
      " 34  NM_MUNICIPIO_DOADOR          1092 non-null   object \n",
      " 35  SQ_CANDIDATO_DOADOR          886 non-null    float64\n",
      " 36  NR_CANDIDATO_DOADOR          962 non-null    float64\n",
      " 37  CD_CARGO_CANDIDATO_DOADOR    962 non-null    float64\n",
      " 38  DS_CARGO_CANDIDATO_DOADOR    962 non-null    object \n",
      " 39  NR_PARTIDO_DOADOR            3033 non-null   float64\n",
      " 40  SG_PARTIDO_DOADOR            3033 non-null   object \n",
      " 41  NM_PARTIDO_DOADOR            3033 non-null   object \n",
      " 42  NR_RECIBO_DOACAO             5623 non-null   object \n",
      " 43  NR_DOCUMENTO_DOACAO          3924 non-null   object \n",
      " 44  SQ_RECEITA                   6052 non-null   int64  \n",
      " 45  DT_RECEITA                   6052 non-null   object \n",
      " 46  DS_RECEITA                   1933 non-null   object \n",
      " 47  VR_RECEITA                   6052 non-null   object \n",
      "dtypes: float64(8), int64(10), object(30)\n",
      "memory usage: 2.2+ MB\n"
     ]
    }
   ],
   "source": [
    "df = pd.read_csv(\"../base_dados/receitas_orgaos_partidarios_2020_NORTE.csv\",sep=\";\")\n",
    "\n",
    "df.info()"
   ]
  },
  {
   "cell_type": "code",
   "execution_count": 143,
   "id": "a81ccab4",
   "metadata": {},
   "outputs": [
    {
     "name": "stdout",
     "output_type": "stream",
     "text": [
      "<class 'pandas.core.frame.DataFrame'>\n",
      "RangeIndex: 6052 entries, 0 to 6051\n",
      "Data columns (total 48 columns):\n",
      " #   Column                       Non-Null Count  Dtype  \n",
      "---  ------                       --------------  -----  \n",
      " 0   DT_GERACAO                   6052 non-null   object \n",
      " 1   HH_GERACAO                   6052 non-null   object \n",
      " 2   ANO_ELEICAO                  6052 non-null   int64  \n",
      " 3   CD_TIPO_ELEICAO              6052 non-null   int64  \n",
      " 4   NM_TIPO_ELEICAO              6052 non-null   object \n",
      " 5   TP_PRESTACAO_CONTAS          6052 non-null   object \n",
      " 6   DT_PRESTACAO_CONTAS          6052 non-null   object \n",
      " 7   SQ_PRESTADOR_CONTAS          6052 non-null   int64  \n",
      " 8   CD_ESFERA_PARTIDARIA         6052 non-null   object \n",
      " 9   DS_ESFERA_PARTIDARIA         6052 non-null   object \n",
      " 10  SG_UF                        6052 non-null   object \n",
      " 11  CD_MUNICIPIO                 5043 non-null   float64\n",
      " 12  NM_MUNICIPIO                 5043 non-null   object \n",
      " 13  NR_CNPJ_PRESTADOR_CONTA      6052 non-null   int64  \n",
      " 14  NR_PARTIDO                   6052 non-null   int64  \n",
      " 15  SG_PARTIDO                   6052 non-null   object \n",
      " 16  NM_PARTIDO                   6052 non-null   object \n",
      " 17  CD_FONTE_RECEITA             6052 non-null   int64  \n",
      " 18  DS_FONTE_RECEITA             6052 non-null   object \n",
      " 19  CD_ORIGEM_RECEITA            6052 non-null   int64  \n",
      " 20  DS_ORIGEM_RECEITA            6052 non-null   object \n",
      " 21  CD_NATUREZA_RECEITA          6052 non-null   int64  \n",
      " 22  DS_NATUREZA_RECEITA          6052 non-null   object \n",
      " 23  CD_ESPECIE_RECEITA           6052 non-null   int64  \n",
      " 24  DS_ESPECIE_RECEITA           6052 non-null   object \n",
      " 25  CD_CNAE_DOADOR               3033 non-null   float64\n",
      " 26  DS_CNAE_DOADOR               3033 non-null   object \n",
      " 27  NR_CPF_CNPJ_DOADOR           6016 non-null   float64\n",
      " 28  NM_DOADOR                    6016 non-null   object \n",
      " 29  NM_DOADOR_RFB                6016 non-null   object \n",
      " 30  CD_ESFERA_PARTIDARIA_DOADOR  2071 non-null   object \n",
      " 31  DS_ESFERA_PARTIDARIA_DOADOR  2071 non-null   object \n",
      " 32  SG_UF_DOADOR                 3033 non-null   object \n",
      " 33  CD_MUNICIPIO_DOADOR          1092 non-null   float64\n",
      " 34  NM_MUNICIPIO_DOADOR          1092 non-null   object \n",
      " 35  SQ_CANDIDATO_DOADOR          886 non-null    float64\n",
      " 36  NR_CANDIDATO_DOADOR          962 non-null    float64\n",
      " 37  CD_CARGO_CANDIDATO_DOADOR    962 non-null    float64\n",
      " 38  DS_CARGO_CANDIDATO_DOADOR    962 non-null    object \n",
      " 39  NR_PARTIDO_DOADOR            3033 non-null   float64\n",
      " 40  SG_PARTIDO_DOADOR            3033 non-null   object \n",
      " 41  NM_PARTIDO_DOADOR            3033 non-null   object \n",
      " 42  NR_RECIBO_DOACAO             5623 non-null   object \n",
      " 43  NR_DOCUMENTO_DOACAO          3924 non-null   object \n",
      " 44  SQ_RECEITA                   6052 non-null   int64  \n",
      " 45  DT_RECEITA                   6052 non-null   object \n",
      " 46  DS_RECEITA                   1933 non-null   object \n",
      " 47  VR_RECEITA                   6052 non-null   object \n",
      "dtypes: float64(8), int64(10), object(30)\n",
      "memory usage: 2.2+ MB\n"
     ]
    }
   ],
   "source": [
    "df = pd.read_csv(\"../base_dados/receitas_orgaos_partidarios_2020_NORTE.csv\",sep=\";\", na_values=[\"#NULO#\"])\n",
    "\n",
    "df.info()"
   ]
  },
  {
   "attachments": {},
   "cell_type": "markdown",
   "id": "aec7cfce",
   "metadata": {},
   "source": [
    "# Filtre apenas os registros que sejam da prestação de contas final\n"
   ]
  },
  {
   "cell_type": "code",
   "execution_count": 144,
   "id": "110f8562",
   "metadata": {},
   "outputs": [
    {
     "data": {
      "text/plain": [
       "array(['Final', 'Parcial', 'Relatório Financeiro',\n",
       "       'Regularização da Omissão'], dtype=object)"
      ]
     },
     "execution_count": 144,
     "metadata": {},
     "output_type": "execute_result"
    }
   ],
   "source": [
    "# Primeiro vamos ver os valores únicos da coluna TP_PRESTACAO_CONTAS\n",
    "\n",
    "df['TP_PRESTACAO_CONTAS'].unique()"
   ]
  },
  {
   "cell_type": "code",
   "execution_count": 145,
   "id": "60f1ce27",
   "metadata": {},
   "outputs": [
    {
     "data": {
      "text/plain": [
       "(6052, 48)"
      ]
     },
     "execution_count": 145,
     "metadata": {},
     "output_type": "execute_result"
    }
   ],
   "source": [
    "# O resultado deste comando nos diz que quantas linhas e colunas temos antes do filtro\n",
    "df.shape"
   ]
  },
  {
   "cell_type": "code",
   "execution_count": 146,
   "id": "145c639e",
   "metadata": {},
   "outputs": [],
   "source": [
    "# Preencha o campo os espaços abaixo com o nome da coluna e o valor desejado para nosso filtro\n",
    "df_final = df[df['TP_PRESTACAO_CONTAS'] == 'Final'].copy()"
   ]
  },
  {
   "cell_type": "code",
   "execution_count": 147,
   "id": "947b303c",
   "metadata": {},
   "outputs": [
    {
     "data": {
      "text/plain": [
       "(5912, 48)"
      ]
     },
     "execution_count": 147,
     "metadata": {},
     "output_type": "execute_result"
    }
   ],
   "source": [
    "# Rode o comando shape no novo dataframe criado e confira se o número de linhas foi reduzido\n",
    "df_final.shape\n"
   ]
  },
  {
   "cell_type": "code",
   "execution_count": 148,
   "id": "76741355",
   "metadata": {},
   "outputs": [
    {
     "data": {
      "text/html": [
       "<div>\n",
       "<style scoped>\n",
       "    .dataframe tbody tr th:only-of-type {\n",
       "        vertical-align: middle;\n",
       "    }\n",
       "\n",
       "    .dataframe tbody tr th {\n",
       "        vertical-align: top;\n",
       "    }\n",
       "\n",
       "    .dataframe thead th {\n",
       "        text-align: right;\n",
       "    }\n",
       "</style>\n",
       "<table border=\"1\" class=\"dataframe\">\n",
       "  <thead>\n",
       "    <tr style=\"text-align: right;\">\n",
       "      <th></th>\n",
       "      <th>DT_GERACAO</th>\n",
       "      <th>HH_GERACAO</th>\n",
       "      <th>ANO_ELEICAO</th>\n",
       "      <th>CD_TIPO_ELEICAO</th>\n",
       "      <th>NM_TIPO_ELEICAO</th>\n",
       "      <th>TP_PRESTACAO_CONTAS</th>\n",
       "      <th>DT_PRESTACAO_CONTAS</th>\n",
       "      <th>SQ_PRESTADOR_CONTAS</th>\n",
       "      <th>CD_ESFERA_PARTIDARIA</th>\n",
       "      <th>DS_ESFERA_PARTIDARIA</th>\n",
       "      <th>...</th>\n",
       "      <th>DS_CARGO_CANDIDATO_DOADOR</th>\n",
       "      <th>NR_PARTIDO_DOADOR</th>\n",
       "      <th>SG_PARTIDO_DOADOR</th>\n",
       "      <th>NM_PARTIDO_DOADOR</th>\n",
       "      <th>NR_RECIBO_DOACAO</th>\n",
       "      <th>NR_DOCUMENTO_DOACAO</th>\n",
       "      <th>SQ_RECEITA</th>\n",
       "      <th>DT_RECEITA</th>\n",
       "      <th>DS_RECEITA</th>\n",
       "      <th>VR_RECEITA</th>\n",
       "    </tr>\n",
       "  </thead>\n",
       "  <tbody>\n",
       "    <tr>\n",
       "      <th>2125</th>\n",
       "      <td>13/05/2023</td>\n",
       "      <td>23:23:30</td>\n",
       "      <td>2020</td>\n",
       "      <td>2</td>\n",
       "      <td>Ordinária</td>\n",
       "      <td>Final</td>\n",
       "      <td>30/08/2021</td>\n",
       "      <td>1220375765</td>\n",
       "      <td>M</td>\n",
       "      <td>Municipal</td>\n",
       "      <td>...</td>\n",
       "      <td>NaN</td>\n",
       "      <td>NaN</td>\n",
       "      <td>NaN</td>\n",
       "      <td>NaN</td>\n",
       "      <td>P55000404332PA000008A</td>\n",
       "      <td>NaN</td>\n",
       "      <td>19980608</td>\n",
       "      <td>15/11/2020</td>\n",
       "      <td>FISCAL DE MESAS RECEPTORAS</td>\n",
       "      <td>50,00</td>\n",
       "    </tr>\n",
       "    <tr>\n",
       "      <th>1043</th>\n",
       "      <td>13/05/2023</td>\n",
       "      <td>23:23:30</td>\n",
       "      <td>2020</td>\n",
       "      <td>2</td>\n",
       "      <td>Ordinária</td>\n",
       "      <td>Final</td>\n",
       "      <td>15/01/2021</td>\n",
       "      <td>1266190370</td>\n",
       "      <td>M</td>\n",
       "      <td>Municipal</td>\n",
       "      <td>...</td>\n",
       "      <td>NaN</td>\n",
       "      <td>NaN</td>\n",
       "      <td>NaN</td>\n",
       "      <td>NaN</td>\n",
       "      <td>P40000400299RO000004A</td>\n",
       "      <td>NaN</td>\n",
       "      <td>19573416</td>\n",
       "      <td>26/10/2020</td>\n",
       "      <td>VEICULO CITROEN C4 20GLXA5P ANO 2011· VIGÊNCIA...</td>\n",
       "      <td>1000,00</td>\n",
       "    </tr>\n",
       "    <tr>\n",
       "      <th>4611</th>\n",
       "      <td>13/05/2023</td>\n",
       "      <td>23:23:30</td>\n",
       "      <td>2020</td>\n",
       "      <td>2</td>\n",
       "      <td>Ordinária</td>\n",
       "      <td>Final</td>\n",
       "      <td>15/12/2020</td>\n",
       "      <td>1220378006</td>\n",
       "      <td>M</td>\n",
       "      <td>Municipal</td>\n",
       "      <td>...</td>\n",
       "      <td>NaN</td>\n",
       "      <td>NaN</td>\n",
       "      <td>NaN</td>\n",
       "      <td>NaN</td>\n",
       "      <td>P15000404707PA000075A</td>\n",
       "      <td>2795542</td>\n",
       "      <td>19435122</td>\n",
       "      <td>28/10/2020</td>\n",
       "      <td>NaN</td>\n",
       "      <td>25000,00</td>\n",
       "    </tr>\n",
       "    <tr>\n",
       "      <th>5359</th>\n",
       "      <td>13/05/2023</td>\n",
       "      <td>23:23:30</td>\n",
       "      <td>2020</td>\n",
       "      <td>2</td>\n",
       "      <td>Ordinária</td>\n",
       "      <td>Final</td>\n",
       "      <td>30/08/2021</td>\n",
       "      <td>1220309804</td>\n",
       "      <td>F</td>\n",
       "      <td>Federal (Estadual/Distrital)</td>\n",
       "      <td>...</td>\n",
       "      <td>NaN</td>\n",
       "      <td>77.0</td>\n",
       "      <td>SOLIDARIEDADE</td>\n",
       "      <td>Solidariedade</td>\n",
       "      <td>P77000302550AM000003A</td>\n",
       "      <td>000001</td>\n",
       "      <td>19980674</td>\n",
       "      <td>23/10/2020</td>\n",
       "      <td>NaN</td>\n",
       "      <td>280000,00</td>\n",
       "    </tr>\n",
       "    <tr>\n",
       "      <th>2411</th>\n",
       "      <td>13/05/2023</td>\n",
       "      <td>23:23:30</td>\n",
       "      <td>2020</td>\n",
       "      <td>2</td>\n",
       "      <td>Ordinária</td>\n",
       "      <td>Final</td>\n",
       "      <td>20/11/2021</td>\n",
       "      <td>1388156420</td>\n",
       "      <td>M</td>\n",
       "      <td>Municipal</td>\n",
       "      <td>...</td>\n",
       "      <td>NaN</td>\n",
       "      <td>NaN</td>\n",
       "      <td>NaN</td>\n",
       "      <td>NaN</td>\n",
       "      <td>P30000404278PA000011A</td>\n",
       "      <td>001</td>\n",
       "      <td>20069612</td>\n",
       "      <td>17/11/2020</td>\n",
       "      <td>NaN</td>\n",
       "      <td>120,00</td>\n",
       "    </tr>\n",
       "  </tbody>\n",
       "</table>\n",
       "<p>5 rows × 48 columns</p>\n",
       "</div>"
      ],
      "text/plain": [
       "      DT_GERACAO HH_GERACAO  ANO_ELEICAO  CD_TIPO_ELEICAO NM_TIPO_ELEICAO  \\\n",
       "2125  13/05/2023   23:23:30         2020                2       Ordinária   \n",
       "1043  13/05/2023   23:23:30         2020                2       Ordinária   \n",
       "4611  13/05/2023   23:23:30         2020                2       Ordinária   \n",
       "5359  13/05/2023   23:23:30         2020                2       Ordinária   \n",
       "2411  13/05/2023   23:23:30         2020                2       Ordinária   \n",
       "\n",
       "     TP_PRESTACAO_CONTAS DT_PRESTACAO_CONTAS  SQ_PRESTADOR_CONTAS  \\\n",
       "2125               Final          30/08/2021           1220375765   \n",
       "1043               Final          15/01/2021           1266190370   \n",
       "4611               Final          15/12/2020           1220378006   \n",
       "5359               Final          30/08/2021           1220309804   \n",
       "2411               Final          20/11/2021           1388156420   \n",
       "\n",
       "     CD_ESFERA_PARTIDARIA          DS_ESFERA_PARTIDARIA  ...  \\\n",
       "2125                    M                     Municipal  ...   \n",
       "1043                    M                     Municipal  ...   \n",
       "4611                    M                     Municipal  ...   \n",
       "5359                    F  Federal (Estadual/Distrital)  ...   \n",
       "2411                    M                     Municipal  ...   \n",
       "\n",
       "     DS_CARGO_CANDIDATO_DOADOR  NR_PARTIDO_DOADOR SG_PARTIDO_DOADOR  \\\n",
       "2125                       NaN                NaN               NaN   \n",
       "1043                       NaN                NaN               NaN   \n",
       "4611                       NaN                NaN               NaN   \n",
       "5359                       NaN               77.0     SOLIDARIEDADE   \n",
       "2411                       NaN                NaN               NaN   \n",
       "\n",
       "      NM_PARTIDO_DOADOR       NR_RECIBO_DOACAO NR_DOCUMENTO_DOACAO SQ_RECEITA  \\\n",
       "2125                NaN  P55000404332PA000008A                 NaN   19980608   \n",
       "1043                NaN  P40000400299RO000004A                 NaN   19573416   \n",
       "4611                NaN  P15000404707PA000075A             2795542   19435122   \n",
       "5359      Solidariedade  P77000302550AM000003A              000001   19980674   \n",
       "2411                NaN  P30000404278PA000011A                 001   20069612   \n",
       "\n",
       "      DT_RECEITA                                         DS_RECEITA  \\\n",
       "2125  15/11/2020                         FISCAL DE MESAS RECEPTORAS   \n",
       "1043  26/10/2020  VEICULO CITROEN C4 20GLXA5P ANO 2011· VIGÊNCIA...   \n",
       "4611  28/10/2020                                                NaN   \n",
       "5359  23/10/2020                                                NaN   \n",
       "2411  17/11/2020                                                NaN   \n",
       "\n",
       "      VR_RECEITA  \n",
       "2125       50,00  \n",
       "1043     1000,00  \n",
       "4611    25000,00  \n",
       "5359   280000,00  \n",
       "2411      120,00  \n",
       "\n",
       "[5 rows x 48 columns]"
      ]
     },
     "execution_count": 148,
     "metadata": {},
     "output_type": "execute_result"
    }
   ],
   "source": [
    "df_final.sample(5)"
   ]
  },
  {
   "attachments": {},
   "cell_type": "markdown",
   "id": "4fbec4e0",
   "metadata": {},
   "source": [
    "## Qual foi a maior doação de pessoa física e pessoa jurídica em cada estado?\n",
    "\n",
    "Vamos usar o método `value_counts` para não só listar cada valor único da coluna `CD_CNAE_DOADOR`, como também mostrar quantos registros temos em cada um."
   ]
  },
  {
   "cell_type": "code",
   "execution_count": 149,
   "id": "df59e78a",
   "metadata": {},
   "outputs": [
    {
     "data": {
      "text/plain": [
       "CD_CNAE_DOADOR\n",
       "94928.0    2957\n",
       "47814.0       2\n",
       "59120.0       1\n",
       "85996.0       1\n",
       "Name: count, dtype: int64"
      ]
     },
     "execution_count": 149,
     "metadata": {},
     "output_type": "execute_result"
    }
   ],
   "source": [
    "# Preencha o nome da coluna abaixo\n",
    "df_final['CD_CNAE_DOADOR'].value_counts()"
   ]
  },
  {
   "cell_type": "code",
   "execution_count": 150,
   "id": "093485ce",
   "metadata": {},
   "outputs": [
    {
     "data": {
      "text/plain": [
       "CD_CNAE_DOADOR\n",
       "94928.0    0.998649\n",
       "47814.0    0.000675\n",
       "59120.0    0.000338\n",
       "85996.0    0.000338\n",
       "Name: proportion, dtype: float64"
      ]
     },
     "execution_count": 150,
     "metadata": {},
     "output_type": "execute_result"
    }
   ],
   "source": [
    "# Para ver os resultados em percentuais é fácil! Basta falarmos para o value_counts que queremos os resultados normalizados\n",
    "df_final['CD_CNAE_DOADOR'].value_counts(normalize=True)"
   ]
  },
  {
   "cell_type": "code",
   "execution_count": 151,
   "id": "c55b4dfa",
   "metadata": {},
   "outputs": [
    {
     "data": {
      "text/plain": [
       "array(['Atividades de organizações políticas', nan,\n",
       "       'Atividades de pós-produção cinematográfica, de vídeos e de programas de televisão',\n",
       "       'Atividades de ensino não especificadas anteriormente',\n",
       "       'Comércio varejista de artigos do vestuário e acessórios'],\n",
       "      dtype=object)"
      ]
     },
     "execution_count": 151,
     "metadata": {},
     "output_type": "execute_result"
    }
   ],
   "source": [
    "df_final['DS_CNAE_DOADOR'].unique()"
   ]
  },
  {
   "cell_type": "code",
   "execution_count": 152,
   "id": "07f7ad75",
   "metadata": {},
   "outputs": [
    {
     "data": {
      "text/plain": [
       "array([94928.,    nan, 59120., 85996., 47814.])"
      ]
     },
     "execution_count": 152,
     "metadata": {},
     "output_type": "execute_result"
    }
   ],
   "source": [
    "df_final['CD_CNAE_DOADOR'].unique()"
   ]
  },
  {
   "attachments": {},
   "cell_type": "markdown",
   "id": "623a777d",
   "metadata": {},
   "source": [
    "Se o doador for pessoa jurídica, temos seu respectivo código CNAE. Se for pessoa física, então temos o valor `-1`. \n",
    "\n",
    "Qual conclusão podemos tirar a respeito dos comandos acima?\n",
    "\n",
    "Escreva um **comentário** na célula abaixo com a resposta."
   ]
  },
  {
   "cell_type": "code",
   "execution_count": 153,
   "id": "ddf6f70e",
   "metadata": {},
   "outputs": [],
   "source": [
    "# Mais da metade dos registros são de pessoas físicas."
   ]
  },
  {
   "attachments": {},
   "cell_type": "markdown",
   "id": "40404b7d",
   "metadata": {},
   "source": [
    "Agora, vamos duplicar a coluna `CD_CNAE_DOADOR` e deixar esta nova coluna apenas com 2 categorias: física (representada pelo valor -1) ou jurídica (que vamos representar inicialmente com 1)."
   ]
  },
  {
   "cell_type": "code",
   "execution_count": 154,
   "id": "e7007008",
   "metadata": {},
   "outputs": [],
   "source": [
    "# Vamos criar uma nova coluna que seja uma cópia exata da coluna CD_CNAE_DOADOR\n",
    "df_final['TIPO_DOADOR'] = df_final.loc[:, 'CD_CNAE_DOADOR'].replace(np.nan, -1)"
   ]
  },
  {
   "attachments": {},
   "cell_type": "markdown",
   "id": "f326c53a",
   "metadata": {},
   "source": [
    "## Substituição condicional (conditional replacing)\n",
    "\n",
    "Agora, vamos usar o método where do pacote NumPy (carinhosamente chamado de np abaixo).\n",
    "\n",
    "Esta função recebe três parâmetros:\n",
    "\n",
    "* Uma condição: no nosso caso, queremos que filtrar as coluna do CNAE onde os valores sejam -1\n",
    "* Um valor: caso a condição acima seja verdadeira, qual valor deverá ser retornado?\n",
    "* Outro valor: se a condição for falsa, então, qual outro valor deverá ser retornado?\n"
   ]
  },
  {
   "cell_type": "code",
   "execution_count": 155,
   "id": "78622d22",
   "metadata": {},
   "outputs": [],
   "source": [
    "df_final['TIPO_DOADOR'] = np.where(df_final['TIPO_DOADOR']==-1, 'fisica', 'juridica')"
   ]
  },
  {
   "cell_type": "code",
   "execution_count": 156,
   "id": "cd57ddbb",
   "metadata": {},
   "outputs": [
    {
     "data": {
      "text/plain": [
       "array(['juridica', 'fisica'], dtype=object)"
      ]
     },
     "execution_count": 156,
     "metadata": {},
     "output_type": "execute_result"
    }
   ],
   "source": [
    "df_final['TIPO_DOADOR'].unique()"
   ]
  },
  {
   "attachments": {},
   "cell_type": "markdown",
   "id": "47a9b47f",
   "metadata": {},
   "source": [
    "## Agrupando (group by)"
   ]
  },
  {
   "cell_type": "code",
   "execution_count": null,
   "id": "fdd9b8bb",
   "metadata": {},
   "outputs": [],
   "source": [
    "# Preencha abaixo primeiro uma lista com as 3 colunas que precisamos utilizar para responder à pergunta. E depois o nome das 2 colunas que precisamos agrupar."
   ]
  },
  {
   "cell_type": "code",
   "execution_count": 157,
   "id": "048d5c75",
   "metadata": {},
   "outputs": [],
   "source": [
    "df_final['VR_RECEITA'] = df_final['VR_RECEITA'].str.replace(',', '.')"
   ]
  },
  {
   "cell_type": "code",
   "execution_count": 158,
   "id": "d83dd4ee",
   "metadata": {},
   "outputs": [],
   "source": [
    "df_final['VR_RECEITA'] = df_final['VR_RECEITA'].astype(float)"
   ]
  },
  {
   "cell_type": "code",
   "execution_count": 161,
   "id": "95e8e533",
   "metadata": {},
   "outputs": [
    {
     "data": {
      "text/html": [
       "<div>\n",
       "<style scoped>\n",
       "    .dataframe tbody tr th:only-of-type {\n",
       "        vertical-align: middle;\n",
       "    }\n",
       "\n",
       "    .dataframe tbody tr th {\n",
       "        vertical-align: top;\n",
       "    }\n",
       "\n",
       "    .dataframe thead th {\n",
       "        text-align: right;\n",
       "    }\n",
       "</style>\n",
       "<table border=\"1\" class=\"dataframe\">\n",
       "  <thead>\n",
       "    <tr style=\"text-align: right;\">\n",
       "      <th></th>\n",
       "      <th></th>\n",
       "      <th>VR_RECEITA</th>\n",
       "    </tr>\n",
       "    <tr>\n",
       "      <th>TIPO_DOADOR</th>\n",
       "      <th>SG_UF</th>\n",
       "      <th></th>\n",
       "    </tr>\n",
       "  </thead>\n",
       "  <tbody>\n",
       "    <tr>\n",
       "      <th rowspan=\"7\" valign=\"top\">fisica</th>\n",
       "      <th>AC</th>\n",
       "      <td>40560.0</td>\n",
       "    </tr>\n",
       "    <tr>\n",
       "      <th>AM</th>\n",
       "      <td>35000.0</td>\n",
       "    </tr>\n",
       "    <tr>\n",
       "      <th>AP</th>\n",
       "      <td>12000.0</td>\n",
       "    </tr>\n",
       "    <tr>\n",
       "      <th>PA</th>\n",
       "      <td>200000.0</td>\n",
       "    </tr>\n",
       "    <tr>\n",
       "      <th>RO</th>\n",
       "      <td>110000.0</td>\n",
       "    </tr>\n",
       "    <tr>\n",
       "      <th>RR</th>\n",
       "      <td>30000.0</td>\n",
       "    </tr>\n",
       "    <tr>\n",
       "      <th>TO</th>\n",
       "      <td>30000.0</td>\n",
       "    </tr>\n",
       "    <tr>\n",
       "      <th rowspan=\"7\" valign=\"top\">juridica</th>\n",
       "      <th>AC</th>\n",
       "      <td>4900000.0</td>\n",
       "    </tr>\n",
       "    <tr>\n",
       "      <th>AM</th>\n",
       "      <td>6900000.0</td>\n",
       "    </tr>\n",
       "    <tr>\n",
       "      <th>AP</th>\n",
       "      <td>4900000.0</td>\n",
       "    </tr>\n",
       "    <tr>\n",
       "      <th>PA</th>\n",
       "      <td>4400000.0</td>\n",
       "    </tr>\n",
       "    <tr>\n",
       "      <th>RO</th>\n",
       "      <td>2900000.0</td>\n",
       "    </tr>\n",
       "    <tr>\n",
       "      <th>RR</th>\n",
       "      <td>2900000.0</td>\n",
       "    </tr>\n",
       "    <tr>\n",
       "      <th>TO</th>\n",
       "      <td>4900000.0</td>\n",
       "    </tr>\n",
       "  </tbody>\n",
       "</table>\n",
       "</div>"
      ],
      "text/plain": [
       "                   VR_RECEITA\n",
       "TIPO_DOADOR SG_UF            \n",
       "fisica      AC        40560.0\n",
       "            AM        35000.0\n",
       "            AP        12000.0\n",
       "            PA       200000.0\n",
       "            RO       110000.0\n",
       "            RR        30000.0\n",
       "            TO        30000.0\n",
       "juridica    AC      4900000.0\n",
       "            AM      6900000.0\n",
       "            AP      4900000.0\n",
       "            PA      4400000.0\n",
       "            RO      2900000.0\n",
       "            RR      2900000.0\n",
       "            TO      4900000.0"
      ]
     },
     "execution_count": 161,
     "metadata": {},
     "output_type": "execute_result"
    }
   ],
   "source": [
    "# Para repetir o valor da coluna TIPO_DOADOR nas linhas, coloque o parâmetro as_index=False no método groupby do comando acima\n",
    "\n",
    "df_final[['TIPO_DOADOR', 'SG_UF', 'VR_RECEITA']].groupby(by=['TIPO_DOADOR', 'SG_UF']).max()"
   ]
  },
  {
   "attachments": {},
   "cell_type": "markdown",
   "id": "63d35bb6",
   "metadata": {},
   "source": [
    "## Qual o total de doações recebidas por partido?"
   ]
  },
  {
   "cell_type": "code",
   "execution_count": 173,
   "id": "b24a3736",
   "metadata": {},
   "outputs": [],
   "source": [
    "total_doacoes = df_final[['SG_PARTIDO', 'NM_PARTIDO', 'VR_RECEITA']].groupby(by=['SG_PARTIDO', 'NM_PARTIDO']).sum()"
   ]
  },
  {
   "cell_type": "code",
   "execution_count": 174,
   "id": "e30eb987",
   "metadata": {},
   "outputs": [
    {
     "data": {
      "text/html": [
       "<div>\n",
       "<style scoped>\n",
       "    .dataframe tbody tr th:only-of-type {\n",
       "        vertical-align: middle;\n",
       "    }\n",
       "\n",
       "    .dataframe tbody tr th {\n",
       "        vertical-align: top;\n",
       "    }\n",
       "\n",
       "    .dataframe thead th {\n",
       "        text-align: right;\n",
       "    }\n",
       "</style>\n",
       "<table border=\"1\" class=\"dataframe\">\n",
       "  <thead>\n",
       "    <tr style=\"text-align: right;\">\n",
       "      <th></th>\n",
       "      <th></th>\n",
       "      <th>VR_RECEITA</th>\n",
       "    </tr>\n",
       "    <tr>\n",
       "      <th>SG_PARTIDO</th>\n",
       "      <th>NM_PARTIDO</th>\n",
       "      <th></th>\n",
       "    </tr>\n",
       "  </thead>\n",
       "  <tbody>\n",
       "    <tr>\n",
       "      <th>AVANTE</th>\n",
       "      <th>AVANTE</th>\n",
       "      <td>498726.86</td>\n",
       "    </tr>\n",
       "    <tr>\n",
       "      <th>CIDADANIA</th>\n",
       "      <th>Cidadania</th>\n",
       "      <td>2219623.58</td>\n",
       "    </tr>\n",
       "    <tr>\n",
       "      <th>DC</th>\n",
       "      <th>Democracia Cristã</th>\n",
       "      <td>579762.02</td>\n",
       "    </tr>\n",
       "    <tr>\n",
       "      <th>DEM</th>\n",
       "      <th>Democratas</th>\n",
       "      <td>2436863.08</td>\n",
       "    </tr>\n",
       "    <tr>\n",
       "      <th>MDB</th>\n",
       "      <th>Movimento Democrático Brasileiro</th>\n",
       "      <td>26787221.17</td>\n",
       "    </tr>\n",
       "    <tr>\n",
       "      <th>NOVO</th>\n",
       "      <th>Partido Novo</th>\n",
       "      <td>23857.14</td>\n",
       "    </tr>\n",
       "    <tr>\n",
       "      <th>PATRIOTA</th>\n",
       "      <th>Patriota</th>\n",
       "      <td>2251979.23</td>\n",
       "    </tr>\n",
       "    <tr>\n",
       "      <th>PC do B</th>\n",
       "      <th>Partido Comunista do Brasil</th>\n",
       "      <td>828417.19</td>\n",
       "    </tr>\n",
       "    <tr>\n",
       "      <th>PCB</th>\n",
       "      <th>Partido Comunista Brasileiro</th>\n",
       "      <td>5957.40</td>\n",
       "    </tr>\n",
       "    <tr>\n",
       "      <th>PDT</th>\n",
       "      <th>Partido Democrático Trabalhista</th>\n",
       "      <td>4233608.09</td>\n",
       "    </tr>\n",
       "    <tr>\n",
       "      <th>PL</th>\n",
       "      <th>Partido Liberal</th>\n",
       "      <td>1155281.57</td>\n",
       "    </tr>\n",
       "    <tr>\n",
       "      <th>PMB</th>\n",
       "      <th>Partido da Mulher Brasileira</th>\n",
       "      <td>255200.00</td>\n",
       "    </tr>\n",
       "    <tr>\n",
       "      <th>PMN</th>\n",
       "      <th>Partido da Mobilização Nacional</th>\n",
       "      <td>6161.18</td>\n",
       "    </tr>\n",
       "    <tr>\n",
       "      <th>PODE</th>\n",
       "      <th>Podemos</th>\n",
       "      <td>10923235.59</td>\n",
       "    </tr>\n",
       "    <tr>\n",
       "      <th>PP</th>\n",
       "      <th>PROGRESSISTAS</th>\n",
       "      <td>21131024.67</td>\n",
       "    </tr>\n",
       "    <tr>\n",
       "      <th>PROS</th>\n",
       "      <th>Partido Republicano da Ordem Social</th>\n",
       "      <td>3186342.45</td>\n",
       "    </tr>\n",
       "    <tr>\n",
       "      <th>PRTB</th>\n",
       "      <th>Partido Renovador Trabalhista Brasileiro</th>\n",
       "      <td>149812.03</td>\n",
       "    </tr>\n",
       "    <tr>\n",
       "      <th>PSB</th>\n",
       "      <th>Partido Socialista Brasileiro</th>\n",
       "      <td>7195707.60</td>\n",
       "    </tr>\n",
       "    <tr>\n",
       "      <th>PSC</th>\n",
       "      <th>Partido Social Cristão</th>\n",
       "      <td>762219.20</td>\n",
       "    </tr>\n",
       "    <tr>\n",
       "      <th>PSD</th>\n",
       "      <th>Partido Social Democrático</th>\n",
       "      <td>44622192.18</td>\n",
       "    </tr>\n",
       "    <tr>\n",
       "      <th>PSDB</th>\n",
       "      <th>Partido da Social Democracia Brasileira</th>\n",
       "      <td>4703298.45</td>\n",
       "    </tr>\n",
       "    <tr>\n",
       "      <th>PSL</th>\n",
       "      <th>Partido Social Liberal</th>\n",
       "      <td>14133814.44</td>\n",
       "    </tr>\n",
       "    <tr>\n",
       "      <th>PSOL</th>\n",
       "      <th>Partido Socialismo e Liberdade</th>\n",
       "      <td>7426889.30</td>\n",
       "    </tr>\n",
       "    <tr>\n",
       "      <th>PT</th>\n",
       "      <th>Partido dos Trabalhadores</th>\n",
       "      <td>11252216.64</td>\n",
       "    </tr>\n",
       "    <tr>\n",
       "      <th>PTB</th>\n",
       "      <th>Partido Trabalhista Brasileiro</th>\n",
       "      <td>6212684.87</td>\n",
       "    </tr>\n",
       "    <tr>\n",
       "      <th>PTC</th>\n",
       "      <th>Partido Trabalhista Cristão</th>\n",
       "      <td>621471.86</td>\n",
       "    </tr>\n",
       "    <tr>\n",
       "      <th>PV</th>\n",
       "      <th>Partido Verde</th>\n",
       "      <td>4670590.87</td>\n",
       "    </tr>\n",
       "    <tr>\n",
       "      <th>REDE</th>\n",
       "      <th>Rede Sustentabilidade</th>\n",
       "      <td>10416744.67</td>\n",
       "    </tr>\n",
       "    <tr>\n",
       "      <th>REPUBLICANOS</th>\n",
       "      <th>REPUBLICANOS</th>\n",
       "      <td>9731257.47</td>\n",
       "    </tr>\n",
       "    <tr>\n",
       "      <th>SOLIDARIEDADE</th>\n",
       "      <th>Solidariedade</th>\n",
       "      <td>10855671.17</td>\n",
       "    </tr>\n",
       "    <tr>\n",
       "      <th>UP</th>\n",
       "      <th>Unidade Popular</th>\n",
       "      <td>15200.00</td>\n",
       "    </tr>\n",
       "  </tbody>\n",
       "</table>\n",
       "</div>"
      ],
      "text/plain": [
       "                                                         VR_RECEITA\n",
       "SG_PARTIDO    NM_PARTIDO                                           \n",
       "AVANTE        AVANTE                                      498726.86\n",
       "CIDADANIA     Cidadania                                  2219623.58\n",
       "DC            Democracia Cristã                           579762.02\n",
       "DEM           Democratas                                 2436863.08\n",
       "MDB           Movimento Democrático Brasileiro          26787221.17\n",
       "NOVO          Partido Novo                                 23857.14\n",
       "PATRIOTA      Patriota                                   2251979.23\n",
       "PC do B       Partido Comunista do Brasil                 828417.19\n",
       "PCB           Partido Comunista Brasileiro                  5957.40\n",
       "PDT           Partido Democrático Trabalhista            4233608.09\n",
       "PL            Partido Liberal                            1155281.57\n",
       "PMB           Partido da Mulher Brasileira                255200.00\n",
       "PMN           Partido da Mobilização Nacional               6161.18\n",
       "PODE          Podemos                                   10923235.59\n",
       "PP            PROGRESSISTAS                             21131024.67\n",
       "PROS          Partido Republicano da Ordem Social        3186342.45\n",
       "PRTB          Partido Renovador Trabalhista Brasileiro    149812.03\n",
       "PSB           Partido Socialista Brasileiro              7195707.60\n",
       "PSC           Partido Social Cristão                      762219.20\n",
       "PSD           Partido Social Democrático                44622192.18\n",
       "PSDB          Partido da Social Democracia Brasileira    4703298.45\n",
       "PSL           Partido Social Liberal                    14133814.44\n",
       "PSOL          Partido Socialismo e Liberdade             7426889.30\n",
       "PT            Partido dos Trabalhadores                 11252216.64\n",
       "PTB           Partido Trabalhista Brasileiro             6212684.87\n",
       "PTC           Partido Trabalhista Cristão                 621471.86\n",
       "PV            Partido Verde                              4670590.87\n",
       "REDE          Rede Sustentabilidade                     10416744.67\n",
       "REPUBLICANOS  REPUBLICANOS                               9731257.47\n",
       "SOLIDARIEDADE Solidariedade                             10855671.17\n",
       "UP            Unidade Popular                              15200.00"
      ]
     },
     "execution_count": 174,
     "metadata": {},
     "output_type": "execute_result"
    }
   ],
   "source": [
    "total_doacoes"
   ]
  },
  {
   "attachments": {},
   "cell_type": "markdown",
   "id": "c5d33b84",
   "metadata": {},
   "source": [
    "## Qual é o top 10?\n",
    "\n",
    "Crie um novo dataframe com os 10 partidos com mais doações. Você precisa primeiro ordenar os resultados e depois selecionar apenas os 10 primeiros.\n",
    "\n"
   ]
  },
  {
   "cell_type": "code",
   "execution_count": 175,
   "id": "8144f9e5",
   "metadata": {},
   "outputs": [],
   "source": [
    "total_doacoes_decrescente = total_doacoes.sort_values(by='VR_RECEITA', ascending=False)"
   ]
  },
  {
   "cell_type": "code",
   "execution_count": 176,
   "id": "8483f98f",
   "metadata": {},
   "outputs": [],
   "source": [
    "top_10 = total_doacoes_decrescente.head(10)"
   ]
  },
  {
   "cell_type": "code",
   "execution_count": 177,
   "id": "923bec1d",
   "metadata": {},
   "outputs": [
    {
     "data": {
      "text/html": [
       "<div>\n",
       "<style scoped>\n",
       "    .dataframe tbody tr th:only-of-type {\n",
       "        vertical-align: middle;\n",
       "    }\n",
       "\n",
       "    .dataframe tbody tr th {\n",
       "        vertical-align: top;\n",
       "    }\n",
       "\n",
       "    .dataframe thead th {\n",
       "        text-align: right;\n",
       "    }\n",
       "</style>\n",
       "<table border=\"1\" class=\"dataframe\">\n",
       "  <thead>\n",
       "    <tr style=\"text-align: right;\">\n",
       "      <th></th>\n",
       "      <th></th>\n",
       "      <th>VR_RECEITA</th>\n",
       "    </tr>\n",
       "    <tr>\n",
       "      <th>SG_PARTIDO</th>\n",
       "      <th>NM_PARTIDO</th>\n",
       "      <th></th>\n",
       "    </tr>\n",
       "  </thead>\n",
       "  <tbody>\n",
       "    <tr>\n",
       "      <th>PSD</th>\n",
       "      <th>Partido Social Democrático</th>\n",
       "      <td>44622192.18</td>\n",
       "    </tr>\n",
       "    <tr>\n",
       "      <th>MDB</th>\n",
       "      <th>Movimento Democrático Brasileiro</th>\n",
       "      <td>26787221.17</td>\n",
       "    </tr>\n",
       "    <tr>\n",
       "      <th>PP</th>\n",
       "      <th>PROGRESSISTAS</th>\n",
       "      <td>21131024.67</td>\n",
       "    </tr>\n",
       "    <tr>\n",
       "      <th>PSL</th>\n",
       "      <th>Partido Social Liberal</th>\n",
       "      <td>14133814.44</td>\n",
       "    </tr>\n",
       "    <tr>\n",
       "      <th>PT</th>\n",
       "      <th>Partido dos Trabalhadores</th>\n",
       "      <td>11252216.64</td>\n",
       "    </tr>\n",
       "    <tr>\n",
       "      <th>PODE</th>\n",
       "      <th>Podemos</th>\n",
       "      <td>10923235.59</td>\n",
       "    </tr>\n",
       "    <tr>\n",
       "      <th>SOLIDARIEDADE</th>\n",
       "      <th>Solidariedade</th>\n",
       "      <td>10855671.17</td>\n",
       "    </tr>\n",
       "    <tr>\n",
       "      <th>REDE</th>\n",
       "      <th>Rede Sustentabilidade</th>\n",
       "      <td>10416744.67</td>\n",
       "    </tr>\n",
       "    <tr>\n",
       "      <th>REPUBLICANOS</th>\n",
       "      <th>REPUBLICANOS</th>\n",
       "      <td>9731257.47</td>\n",
       "    </tr>\n",
       "    <tr>\n",
       "      <th>PSOL</th>\n",
       "      <th>Partido Socialismo e Liberdade</th>\n",
       "      <td>7426889.30</td>\n",
       "    </tr>\n",
       "  </tbody>\n",
       "</table>\n",
       "</div>"
      ],
      "text/plain": [
       "                                                 VR_RECEITA\n",
       "SG_PARTIDO    NM_PARTIDO                                   \n",
       "PSD           Partido Social Democrático        44622192.18\n",
       "MDB           Movimento Democrático Brasileiro  26787221.17\n",
       "PP            PROGRESSISTAS                     21131024.67\n",
       "PSL           Partido Social Liberal            14133814.44\n",
       "PT            Partido dos Trabalhadores         11252216.64\n",
       "PODE          Podemos                           10923235.59\n",
       "SOLIDARIEDADE Solidariedade                     10855671.17\n",
       "REDE          Rede Sustentabilidade             10416744.67\n",
       "REPUBLICANOS  REPUBLICANOS                       9731257.47\n",
       "PSOL          Partido Socialismo e Liberdade     7426889.30"
      ]
     },
     "execution_count": 177,
     "metadata": {},
     "output_type": "execute_result"
    }
   ],
   "source": [
    "top_10"
   ]
  },
  {
   "attachments": {},
   "cell_type": "markdown",
   "id": "0ca424ec",
   "metadata": {},
   "source": [
    "# Vamos visualizar os resultados?\n",
    "Na aula, nós vimos como usar o matplotlib para gerar gráficos. Agora, vamos descobrir uma nova forma de fazer o mesmo usando um método nativo Pandas. Experimente colocar `.plot(kind='barh')` após a consulta ou dataframe anterior.\n",
    "\n",
    "Com este comando, podemos produzir um gráfico (plot) do tipo (kind) de barras horizontais (barh)."
   ]
  },
  {
   "cell_type": "code",
   "execution_count": 179,
   "id": "db7c17b2",
   "metadata": {},
   "outputs": [
    {
     "data": {
      "text/plain": [
       "<Axes: ylabel='SG_PARTIDO,NM_PARTIDO'>"
      ]
     },
     "execution_count": 179,
     "metadata": {},
     "output_type": "execute_result"
    },
    {
     "data": {
      "image/png": "[encoded data removed]",
      "text/plain": [
       "<Figure size 640x480 with 1 Axes>"
      ]
     },
     "metadata": {},
     "output_type": "display_data"
    }
   ],
   "source": [
    "top_10.sort_values(by='VR_RECEITA').plot(kind='barh', color={'red'})"
   ]
  },
  {
   "attachments": {},
   "cell_type": "markdown",
   "id": "1eef3d90",
   "metadata": {},
   "source": [
    "## Qual o valor médio das doações por tipo de doador?\n",
    "\n",
    "Agora é sua vez! A partir dos comandos anteriores, faça uma nova consulta para descobrir a mediana de acordo com o tipo de doador."
   ]
  },
  {
   "cell_type": "code",
   "execution_count": 185,
   "id": "e0385ed3",
   "metadata": {},
   "outputs": [
    {
     "data": {
      "text/html": [
       "<div>\n",
       "<style scoped>\n",
       "    .dataframe tbody tr th:only-of-type {\n",
       "        vertical-align: middle;\n",
       "    }\n",
       "\n",
       "    .dataframe tbody tr th {\n",
       "        vertical-align: top;\n",
       "    }\n",
       "\n",
       "    .dataframe thead th {\n",
       "        text-align: right;\n",
       "    }\n",
       "</style>\n",
       "<table border=\"1\" class=\"dataframe\">\n",
       "  <thead>\n",
       "    <tr style=\"text-align: right;\">\n",
       "      <th></th>\n",
       "      <th>VR_RECEITA</th>\n",
       "    </tr>\n",
       "    <tr>\n",
       "      <th>TIPO_DOADOR</th>\n",
       "      <th></th>\n",
       "    </tr>\n",
       "  </thead>\n",
       "  <tbody>\n",
       "    <tr>\n",
       "      <th>fisica</th>\n",
       "      <td>2380.379895</td>\n",
       "    </tr>\n",
       "    <tr>\n",
       "      <th>juridica</th>\n",
       "      <td>68310.885140</td>\n",
       "    </tr>\n",
       "  </tbody>\n",
       "</table>\n",
       "</div>"
      ],
      "text/plain": [
       "               VR_RECEITA\n",
       "TIPO_DOADOR              \n",
       "fisica        2380.379895\n",
       "juridica     68310.885140"
      ]
     },
     "execution_count": 185,
     "metadata": {},
     "output_type": "execute_result"
    }
   ],
   "source": [
    "df_final[['TIPO_DOADOR', 'VR_RECEITA']].groupby(by=['TIPO_DOADOR']).mean()"
   ]
  },
  {
   "attachments": {},
   "cell_type": "markdown",
   "id": "6e4ae02a",
   "metadata": {},
   "source": [
    "## Qual o valor mais alto de doação por tipo de doador?"
   ]
  },
  {
   "cell_type": "code",
   "execution_count": 184,
   "id": "a4530329",
   "metadata": {},
   "outputs": [
    {
     "data": {
      "text/html": [
       "<div>\n",
       "<style scoped>\n",
       "    .dataframe tbody tr th:only-of-type {\n",
       "        vertical-align: middle;\n",
       "    }\n",
       "\n",
       "    .dataframe tbody tr th {\n",
       "        vertical-align: top;\n",
       "    }\n",
       "\n",
       "    .dataframe thead th {\n",
       "        text-align: right;\n",
       "    }\n",
       "</style>\n",
       "<table border=\"1\" class=\"dataframe\">\n",
       "  <thead>\n",
       "    <tr style=\"text-align: right;\">\n",
       "      <th></th>\n",
       "      <th>VR_RECEITA</th>\n",
       "    </tr>\n",
       "    <tr>\n",
       "      <th>TIPO_DOADOR</th>\n",
       "      <th></th>\n",
       "    </tr>\n",
       "  </thead>\n",
       "  <tbody>\n",
       "    <tr>\n",
       "      <th>fisica</th>\n",
       "      <td>200000.0</td>\n",
       "    </tr>\n",
       "    <tr>\n",
       "      <th>juridica</th>\n",
       "      <td>6900000.0</td>\n",
       "    </tr>\n",
       "  </tbody>\n",
       "</table>\n",
       "</div>"
      ],
      "text/plain": [
       "             VR_RECEITA\n",
       "TIPO_DOADOR            \n",
       "fisica         200000.0\n",
       "juridica      6900000.0"
      ]
     },
     "execution_count": 184,
     "metadata": {},
     "output_type": "execute_result"
    }
   ],
   "source": [
    "df_final[['TIPO_DOADOR', 'VR_RECEITA']].groupby(by=['TIPO_DOADOR']).max()"
   ]
  },
  {
   "attachments": {},
   "cell_type": "markdown",
   "id": "6c0e02b3",
   "metadata": {},
   "source": [
    "## Crie uma tabela com valor máximo, mínimo e a mediana, por estado e tipo de doador"
   ]
  },
  {
   "cell_type": "code",
   "execution_count": 180,
   "id": "766c9df8",
   "metadata": {},
   "outputs": [
    {
     "data": {
      "text/html": [
       "<div>\n",
       "<style scoped>\n",
       "    .dataframe tbody tr th:only-of-type {\n",
       "        vertical-align: middle;\n",
       "    }\n",
       "\n",
       "    .dataframe tbody tr th {\n",
       "        vertical-align: top;\n",
       "    }\n",
       "\n",
       "    .dataframe thead tr th {\n",
       "        text-align: left;\n",
       "    }\n",
       "\n",
       "    .dataframe thead tr:last-of-type th {\n",
       "        text-align: right;\n",
       "    }\n",
       "</style>\n",
       "<table border=\"1\" class=\"dataframe\">\n",
       "  <thead>\n",
       "    <tr>\n",
       "      <th></th>\n",
       "      <th></th>\n",
       "      <th colspan=\"3\" halign=\"left\">VR_RECEITA</th>\n",
       "    </tr>\n",
       "    <tr>\n",
       "      <th></th>\n",
       "      <th></th>\n",
       "      <th>min</th>\n",
       "      <th>median</th>\n",
       "      <th>max</th>\n",
       "    </tr>\n",
       "    <tr>\n",
       "      <th>TIPO_DOADOR</th>\n",
       "      <th>SG_UF</th>\n",
       "      <th></th>\n",
       "      <th></th>\n",
       "      <th></th>\n",
       "    </tr>\n",
       "  </thead>\n",
       "  <tbody>\n",
       "    <tr>\n",
       "      <th rowspan=\"7\" valign=\"top\">fisica</th>\n",
       "      <th>AC</th>\n",
       "      <td>4.80</td>\n",
       "      <td>3000.00</td>\n",
       "      <td>40560.0</td>\n",
       "    </tr>\n",
       "    <tr>\n",
       "      <th>AM</th>\n",
       "      <td>2.00</td>\n",
       "      <td>500.00</td>\n",
       "      <td>35000.0</td>\n",
       "    </tr>\n",
       "    <tr>\n",
       "      <th>AP</th>\n",
       "      <td>49.88</td>\n",
       "      <td>500.00</td>\n",
       "      <td>12000.0</td>\n",
       "    </tr>\n",
       "    <tr>\n",
       "      <th>PA</th>\n",
       "      <td>0.10</td>\n",
       "      <td>1000.00</td>\n",
       "      <td>200000.0</td>\n",
       "    </tr>\n",
       "    <tr>\n",
       "      <th>RO</th>\n",
       "      <td>1.20</td>\n",
       "      <td>600.00</td>\n",
       "      <td>110000.0</td>\n",
       "    </tr>\n",
       "    <tr>\n",
       "      <th>RR</th>\n",
       "      <td>23.74</td>\n",
       "      <td>300.00</td>\n",
       "      <td>30000.0</td>\n",
       "    </tr>\n",
       "    <tr>\n",
       "      <th>TO</th>\n",
       "      <td>0.01</td>\n",
       "      <td>561.65</td>\n",
       "      <td>30000.0</td>\n",
       "    </tr>\n",
       "    <tr>\n",
       "      <th rowspan=\"7\" valign=\"top\">juridica</th>\n",
       "      <th>AC</th>\n",
       "      <td>10.00</td>\n",
       "      <td>2550.00</td>\n",
       "      <td>4900000.0</td>\n",
       "    </tr>\n",
       "    <tr>\n",
       "      <th>AM</th>\n",
       "      <td>0.04</td>\n",
       "      <td>1500.00</td>\n",
       "      <td>6900000.0</td>\n",
       "    </tr>\n",
       "    <tr>\n",
       "      <th>AP</th>\n",
       "      <td>0.55</td>\n",
       "      <td>20000.00</td>\n",
       "      <td>4900000.0</td>\n",
       "    </tr>\n",
       "    <tr>\n",
       "      <th>PA</th>\n",
       "      <td>0.10</td>\n",
       "      <td>463.00</td>\n",
       "      <td>4400000.0</td>\n",
       "    </tr>\n",
       "    <tr>\n",
       "      <th>RO</th>\n",
       "      <td>0.40</td>\n",
       "      <td>7000.00</td>\n",
       "      <td>2900000.0</td>\n",
       "    </tr>\n",
       "    <tr>\n",
       "      <th>RR</th>\n",
       "      <td>12.50</td>\n",
       "      <td>2045.00</td>\n",
       "      <td>2900000.0</td>\n",
       "    </tr>\n",
       "    <tr>\n",
       "      <th>TO</th>\n",
       "      <td>0.05</td>\n",
       "      <td>600.00</td>\n",
       "      <td>4900000.0</td>\n",
       "    </tr>\n",
       "  </tbody>\n",
       "</table>\n",
       "</div>"
      ],
      "text/plain": [
       "                  VR_RECEITA                     \n",
       "                         min    median        max\n",
       "TIPO_DOADOR SG_UF                                \n",
       "fisica      AC          4.80   3000.00    40560.0\n",
       "            AM          2.00    500.00    35000.0\n",
       "            AP         49.88    500.00    12000.0\n",
       "            PA          0.10   1000.00   200000.0\n",
       "            RO          1.20    600.00   110000.0\n",
       "            RR         23.74    300.00    30000.0\n",
       "            TO          0.01    561.65    30000.0\n",
       "juridica    AC         10.00   2550.00  4900000.0\n",
       "            AM          0.04   1500.00  6900000.0\n",
       "            AP          0.55  20000.00  4900000.0\n",
       "            PA          0.10    463.00  4400000.0\n",
       "            RO          0.40   7000.00  2900000.0\n",
       "            RR         12.50   2045.00  2900000.0\n",
       "            TO          0.05    600.00  4900000.0"
      ]
     },
     "execution_count": 180,
     "metadata": {},
     "output_type": "execute_result"
    }
   ],
   "source": [
    "df_final[['TIPO_DOADOR', 'SG_UF', 'VR_RECEITA']].groupby(by=['TIPO_DOADOR', 'SG_UF']).agg({'VR_RECEITA': ['min', 'median' ,'max']})"
   ]
  },
  {
   "attachments": {},
   "cell_type": "markdown",
   "id": "34e11ca6",
   "metadata": {},
   "source": [
    "# Entreviste você mesmo"
   ]
  },
  {
   "attachments": {},
   "cell_type": "markdown",
   "id": "4b17ac41",
   "metadata": {},
   "source": [
    "Escreva abaixo pelo menos outras três perguntas que podem ser feitas à base de dados. Escreva a pergunta como um comentário acima do código com a consulta em Python."
   ]
  },
  {
   "attachments": {},
   "cell_type": "markdown",
   "id": "67e605e5",
   "metadata": {},
   "source": []
  }
 ],
 "metadata": {
  "interpreter": {
   "hash": "916dbcbb3f70747c44a77c7bcd40155683ae19c65e1c03b4aa3499c5328201f1"
  },
  "kernelspec": {
   "display_name": "Python 3 (ipykernel)",
   "language": "python",
   "name": "python3"
  },
  "language_info": {
   "codemirror_mode": {
    "name": "ipython",
    "version": 3
   },
   "file_extension": ".py",
   "mimetype": "text/x-python",
   "name": "python",
   "nbconvert_exporter": "python",
   "pygments_lexer": "ipython3",
   "version": "3.11.0"
  }
 },
 "nbformat": 4,
 "nbformat_minor": 5
}
