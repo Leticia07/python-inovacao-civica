{
 "cells": [
  {
   "attachments": {},
   "cell_type": "markdown",
   "id": "7187e3e9",
   "metadata": {
    "id": "7187e3e9"
   },
   "source": [
    "# Escola de Dados - Python para inovação cívica\n",
    "\n",
    "Os dados que usaremos nesse notebook pode ser encontrado em: [Candidatos - 2016](https://dadosabertos.tse.jus.br/dataset/candidatos-2016) e [Candidatos - 2020](https://dadosabertos.tse.jus.br/dataset/candidatos-2020-subtemas) disponível no Portal de Dados Abertos do Tribunal Superior Eleitoral.\n",
    "\n",
    "\n",
    "Os dados também podem ser encontrados na pasta \"Dados\" deste repositório.\n",
    "\n",
    "\n",
    "------\n",
    "Pontos para aula:\n",
    "\n",
    "- Quantas candidaturas para a Câmara de Vereadores houveram em cada ano agrupado por gênero ? \n",
    "- Qual a faixa etária média das pessoas candidatas para a Câmara de Vereadores?\n",
    "- Há correlação entre idade, gênero e custo da campanha?\n",
    "- Visualização gráfica da distribuição da variável DS_COR_RACA em 2020"
   ]
  },
  {
   "cell_type": "code",
   "execution_count": null,
   "id": "32b4107b",
   "metadata": {},
   "outputs": [],
   "source": [
    "import matplotlib.pyplot as plt\n",
    "import pandas as pd\n",
    "import glob "
   ]
  },
  {
   "cell_type": "code",
   "execution_count": null,
   "id": "c0bf2470",
   "metadata": {},
   "outputs": [],
   "source": [
    "dados_ap_pa = glob.glob('base_dados/consulta*.csv')  "
   ]
  },
  {
   "cell_type": "code",
   "execution_count": null,
   "id": "2ea9fce7",
   "metadata": {},
   "outputs": [],
   "source": [
    "print(dados_ap_pa)"
   ]
  },
  {
   "cell_type": "code",
   "execution_count": null,
   "id": "c7747cc6",
   "metadata": {},
   "outputs": [],
   "source": [
    "lista_df = []\n",
    "for dados_estado in dados_ap_pa:\n",
    "  df_estado = pd.read_csv(dados_estado, sep=\";\", encoding=\"latin_1\", na_values=[\"#NULO#\"])\n",
    "  lista_df.append(df_estado)"
   ]
  },
  {
   "cell_type": "code",
   "execution_count": null,
   "id": "a3f10f2d",
   "metadata": {},
   "outputs": [],
   "source": [
    "print(lista_df[0].columns)\n",
    "print(len(lista_df))"
   ]
  },
  {
   "cell_type": "code",
   "execution_count": null,
   "id": "8a49ee4c",
   "metadata": {},
   "outputs": [],
   "source": [
    "df_completo = pd.concat(lista_df, axis=0, ignore_index=True)"
   ]
  },
  {
   "cell_type": "code",
   "execution_count": null,
   "id": "6544999c",
   "metadata": {},
   "outputs": [],
   "source": [
    "df_completo.sample(5)"
   ]
  },
  {
   "cell_type": "code",
   "execution_count": null,
   "id": "fc254533",
   "metadata": {},
   "outputs": [],
   "source": [
    "df_completo.shape"
   ]
  },
  {
   "cell_type": "code",
   "execution_count": null,
   "id": "04663423",
   "metadata": {},
   "outputs": [],
   "source": [
    "df_completo.info()"
   ]
  },
  {
   "cell_type": "code",
   "execution_count": null,
   "id": "38e64f25",
   "metadata": {},
   "outputs": [],
   "source": [
    "df_completo['DS_CARGO'].unique()"
   ]
  },
  {
   "cell_type": "code",
   "execution_count": null,
   "id": "af40d5ce",
   "metadata": {},
   "outputs": [],
   "source": [
    "df_completo['DS_DETALHE_SITUACAO_CAND'].unique()"
   ]
  },
  {
   "cell_type": "code",
   "execution_count": null,
   "id": "24abbc97",
   "metadata": {},
   "outputs": [],
   "source": [
    "filtro_cargo = df_completo['DS_CARGO'] == 'VEREADOR '"
   ]
  },
  {
   "cell_type": "code",
   "execution_count": null,
   "id": "921617f2",
   "metadata": {},
   "outputs": [],
   "source": [
    "filtro_deferimento_1 = df_completo['DS_DETALHE_SITUACAO_CAND'] == 'DEFERIDO' "
   ]
  },
  {
   "cell_type": "code",
   "execution_count": null,
   "id": "0833004a",
   "metadata": {},
   "outputs": [],
   "source": [
    "filtro_deferimento_2 = df_completo['DS_DETALHE_SITUACAO_CAND'] == 'DEFERIDO COM RECURSO' "
   ]
  },
  {
   "cell_type": "code",
   "execution_count": null,
   "id": "5bd8789e",
   "metadata": {},
   "outputs": [],
   "source": [
    "df_vereadores = df_completo[filtro_cargo & filtro_deferimento_1 | filtro_deferimento_2].copy()"
   ]
  },
  {
   "cell_type": "code",
   "execution_count": null,
   "id": "30ace080",
   "metadata": {},
   "outputs": [],
   "source": [
    "df_vereadores.shape"
   ]
  },
  {
   "attachments": {},
   "cell_type": "markdown",
   "id": "d2aa52d3",
   "metadata": {
    "id": "d2aa52d3"
   },
   "source": [
    "# Quantas candidaturas houveram em cada ano agrupado por gênero ? "
   ]
  },
  {
   "cell_type": "code",
   "execution_count": null,
   "id": "f3c0b30e",
   "metadata": {},
   "outputs": [],
   "source": [
    "df_raca_genero = df_vereadores[['ANO_ELEICAO', 'CD_CARGO', 'SG_UF', 'NR_PARTIDO', 'SG_PARTIDO', 'CD_GENERO',\n",
    "                                'DS_GENERO', 'CD_COR_RACA', 'DS_COR_RACA', 'NR_IDADE_DATA_POSSE',\n",
    "                                'VR_DESPESA_MAX_CAMPANHA']].copy()"
   ]
  },
  {
   "cell_type": "code",
   "execution_count": null,
   "id": "faf0590c",
   "metadata": {},
   "outputs": [],
   "source": [
    "df_raca_genero.shape"
   ]
  },
  {
   "cell_type": "code",
   "execution_count": null,
   "id": "13806e8a",
   "metadata": {},
   "outputs": [],
   "source": [
    "df_raca_genero.head()"
   ]
  },
  {
   "cell_type": "code",
   "execution_count": null,
   "id": "3fdcabfa",
   "metadata": {},
   "outputs": [],
   "source": [
    "df_raca_genero[['ANO_ELEICAO', 'DS_GENERO', 'CD_CARGO']].groupby(by=['ANO_ELEICAO', 'DS_GENERO']).count()"
   ]
  },
  {
   "cell_type": "code",
   "execution_count": null,
   "id": "940683b7",
   "metadata": {},
   "outputs": [],
   "source": [
    "df_ano_genero = df_raca_genero[['ANO_ELEICAO', 'DS_GENERO', 'CD_CARGO']].groupby(by=['ANO_ELEICAO', 'DS_GENERO'], as_index=False).count()"
   ]
  },
  {
   "cell_type": "code",
   "execution_count": null,
   "id": "58a02dd6",
   "metadata": {},
   "outputs": [],
   "source": [
    "df_ano_genero"
   ]
  },
  {
   "cell_type": "code",
   "execution_count": null,
   "id": "4b81eb36",
   "metadata": {},
   "outputs": [],
   "source": [
    "df_ano_genero.groupby(['ANO_ELEICAO', 'DS_GENERO']).sum().unstack(0).plot()"
   ]
  },
  {
   "attachments": {},
   "cell_type": "markdown",
   "id": "aaeb951e",
   "metadata": {
    "id": "aaeb951e"
   },
   "source": [
    "# Qual a faixa etária média das pessoas candidatas para a Câmara de Vereadores?"
   ]
  },
  {
   "cell_type": "code",
   "execution_count": null,
   "id": "170e36ba",
   "metadata": {},
   "outputs": [],
   "source": [
    "df_raca_genero.head()"
   ]
  },
  {
   "cell_type": "code",
   "execution_count": null,
   "id": "c075fd21",
   "metadata": {},
   "outputs": [],
   "source": [
    "cortes = [18, 24, 34, 44, 54, 64, 100]"
   ]
  },
  {
   "cell_type": "code",
   "execution_count": null,
   "id": "31c7a946",
   "metadata": {},
   "outputs": [],
   "source": [
    "categorias = ['18 a 24 anos', '25 a 34 anos', '35 a 44 anos', '45 a 54 anos', '55 a 64 anos', 'acima de 64 anos']"
   ]
  },
  {
   "cell_type": "code",
   "execution_count": null,
   "id": "5f882610",
   "metadata": {},
   "outputs": [],
   "source": [
    "df_raca_genero['FAIXA_ETARIA'] = pd.cut(df_raca_genero['NR_IDADE_DATA_POSSE'], cortes, labels=categorias)"
   ]
  },
  {
   "cell_type": "code",
   "execution_count": null,
   "id": "4c078e80",
   "metadata": {},
   "outputs": [],
   "source": [
    "df_raca_genero"
   ]
  },
  {
   "cell_type": "code",
   "execution_count": null,
   "id": "75ddc143",
   "metadata": {},
   "outputs": [],
   "source": [
    "df_raca_genero['FAIXA_ETARIA'].mode()"
   ]
  },
  {
   "attachments": {},
   "cell_type": "markdown",
   "id": "173e6e5f",
   "metadata": {
    "id": "173e6e5f"
   },
   "source": [
    "# Visualize graficamente a distribuição da variável DS_COR_RACA em 2020"
   ]
  },
  {
   "cell_type": "code",
   "execution_count": null,
   "id": "add56a8b",
   "metadata": {},
   "outputs": [],
   "source": [
    "df_raca_2020 = df_raca_genero[df_raca_genero['ANO_ELEICAO'] == 2020].copy()"
   ]
  },
  {
   "cell_type": "code",
   "execution_count": null,
   "id": "fea0a481",
   "metadata": {},
   "outputs": [],
   "source": [
    "df_raca_2020[['CD_COR_RACA', 'DS_COR_RACA']].groupby(['DS_COR_RACA']).count()"
   ]
  },
  {
   "cell_type": "code",
   "execution_count": null,
   "id": "98cc0ff7",
   "metadata": {},
   "outputs": [],
   "source": [
    "raca = df_raca_2020['DS_COR_RACA'].unique().tolist()"
   ]
  },
  {
   "cell_type": "code",
   "execution_count": null,
   "id": "2d689dfd",
   "metadata": {},
   "outputs": [],
   "source": [
    "print(raca)"
   ]
  },
  {
   "cell_type": "code",
   "execution_count": null,
   "id": "89e1e848",
   "metadata": {},
   "outputs": [],
   "source": [
    "frequencia = df_raca_2020['DS_COR_RACA'].value_counts().tolist()"
   ]
  },
  {
   "cell_type": "code",
   "execution_count": null,
   "id": "62b42875",
   "metadata": {},
   "outputs": [],
   "source": [
    "print(frequencia)"
   ]
  },
  {
   "cell_type": "code",
   "execution_count": null,
   "id": "0b89d244",
   "metadata": {},
   "outputs": [],
   "source": [
    "plt.bar(raca, frequencia)"
   ]
  },
  {
   "cell_type": "code",
   "execution_count": null,
   "id": "ea034ed8",
   "metadata": {},
   "outputs": [],
   "source": [
    "plt.bar(raca, frequencia)\n",
    "plt.xticks(rotation=45)\n",
    "plt.title('Distribuicao por raca em 2020 no PA e AM')\n",
    "plt.ylabel('Quantidade de candidaturas')\n",
    "\n",
    "plt.show()"
   ]
  },
  {
   "attachments": {},
   "cell_type": "markdown",
   "id": "85ffe243",
   "metadata": {},
   "source": [
    "# Há correlação entre idade, gênero e custo da campanha?"
   ]
  },
  {
   "cell_type": "code",
   "execution_count": null,
   "id": "6f656742",
   "metadata": {},
   "outputs": [],
   "source": [
    "df_raca_genero[['NR_IDADE_DATA_POSSE', 'CD_GENERO', 'VR_DESPESA_MAX_CAMPANHA']].corr(method='pearson')"
   ]
  },
  {
   "cell_type": "code",
   "execution_count": null,
   "id": "af0fe662",
   "metadata": {},
   "outputs": [],
   "source": []
  }
 ],
 "metadata": {
  "colab": {
   "collapsed_sections": [],
   "name": "aula_aovivo.ipynb",
   "provenance": []
  },
  "kernelspec": {
   "display_name": "Python 3 (ipykernel)",
   "language": "python",
   "name": "python3"
  },
  "language_info": {
   "codemirror_mode": {
    "name": "ipython",
    "version": 3
   },
   "file_extension": ".py",
   "mimetype": "text/x-python",
   "name": "python",
   "nbconvert_exporter": "python",
   "pygments_lexer": "ipython3",
   "version": "3.11.0"
  }
 },
 "nbformat": 4,
 "nbformat_minor": 5
}
