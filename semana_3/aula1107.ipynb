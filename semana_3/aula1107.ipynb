{
 "cells": [
  {
   "cell_type": "code",
   "execution_count": 1,
   "metadata": {},
   "outputs": [],
   "source": [
    "import requests"
   ]
  },
  {
   "cell_type": "code",
   "execution_count": 2,
   "metadata": {},
   "outputs": [],
   "source": [
    "url = 'http://www.camara.leg.br/cotas/Ano-2020.csv.zip'"
   ]
  },
  {
   "cell_type": "code",
   "execution_count": 3,
   "metadata": {},
   "outputs": [],
   "source": [
    "resposta = requests.get(url)"
   ]
  },
  {
   "cell_type": "code",
   "execution_count": 4,
   "metadata": {},
   "outputs": [],
   "source": [
    "with open(\"Ano-2020.csv.zip\", \"wb\") as file:\n",
    "  file.write(resposta.content)"
   ]
  },
  {
   "cell_type": "code",
   "execution_count": 5,
   "metadata": {},
   "outputs": [],
   "source": [
    "import pandas as pd"
   ]
  },
  {
   "cell_type": "code",
   "execution_count": 6,
   "metadata": {},
   "outputs": [],
   "source": [
    "df = pd.read_csv('http://www.camara.leg.br/cotas/Ano-2020.csv.zip', sep=\";\", compression=\"zip\")"
   ]
  },
  {
   "cell_type": "code",
   "execution_count": 7,
   "metadata": {},
   "outputs": [
    {
     "data": {
      "text/html": [
       "<div>\n",
       "<style scoped>\n",
       "    .dataframe tbody tr th:only-of-type {\n",
       "        vertical-align: middle;\n",
       "    }\n",
       "\n",
       "    .dataframe tbody tr th {\n",
       "        vertical-align: top;\n",
       "    }\n",
       "\n",
       "    .dataframe thead th {\n",
       "        text-align: right;\n",
       "    }\n",
       "</style>\n",
       "<table border=\"1\" class=\"dataframe\">\n",
       "  <thead>\n",
       "    <tr style=\"text-align: right;\">\n",
       "      <th></th>\n",
       "      <th>txNomeParlamentar</th>\n",
       "      <th>cpf</th>\n",
       "      <th>ideCadastro</th>\n",
       "      <th>nuCarteiraParlamentar</th>\n",
       "      <th>nuLegislatura</th>\n",
       "      <th>sgUF</th>\n",
       "      <th>sgPartido</th>\n",
       "      <th>codLegislatura</th>\n",
       "      <th>numSubCota</th>\n",
       "      <th>txtDescricao</th>\n",
       "      <th>...</th>\n",
       "      <th>numParcela</th>\n",
       "      <th>txtPassageiro</th>\n",
       "      <th>txtTrecho</th>\n",
       "      <th>numLote</th>\n",
       "      <th>numRessarcimento</th>\n",
       "      <th>datPagamentoRestituicao</th>\n",
       "      <th>vlrRestituicao</th>\n",
       "      <th>nuDeputadoId</th>\n",
       "      <th>ideDocumento</th>\n",
       "      <th>urlDocumento</th>\n",
       "    </tr>\n",
       "  </thead>\n",
       "  <tbody>\n",
       "    <tr>\n",
       "      <th>0</th>\n",
       "      <td>LIDERANÇA DO DEMOCRATAS</td>\n",
       "      <td>NaN</td>\n",
       "      <td>NaN</td>\n",
       "      <td>NaN</td>\n",
       "      <td>2019</td>\n",
       "      <td>NaN</td>\n",
       "      <td>NaN</td>\n",
       "      <td>56</td>\n",
       "      <td>4</td>\n",
       "      <td>CONSULTORIAS, PESQUISAS E TRABALHOS TÉCNICOS.</td>\n",
       "      <td>...</td>\n",
       "      <td>0</td>\n",
       "      <td>NaN</td>\n",
       "      <td>NaN</td>\n",
       "      <td>1693866</td>\n",
       "      <td>NaN</td>\n",
       "      <td>NaN</td>\n",
       "      <td>NaN</td>\n",
       "      <td>2713</td>\n",
       "      <td>7050172</td>\n",
       "      <td>https://www.camara.leg.br/cota-parlamentar/not...</td>\n",
       "    </tr>\n",
       "    <tr>\n",
       "      <th>1</th>\n",
       "      <td>LIDERANÇA DO DEMOCRATAS</td>\n",
       "      <td>NaN</td>\n",
       "      <td>NaN</td>\n",
       "      <td>NaN</td>\n",
       "      <td>2019</td>\n",
       "      <td>NaN</td>\n",
       "      <td>NaN</td>\n",
       "      <td>56</td>\n",
       "      <td>4</td>\n",
       "      <td>CONSULTORIAS, PESQUISAS E TRABALHOS TÉCNICOS.</td>\n",
       "      <td>...</td>\n",
       "      <td>0</td>\n",
       "      <td>NaN</td>\n",
       "      <td>NaN</td>\n",
       "      <td>1698547</td>\n",
       "      <td>NaN</td>\n",
       "      <td>NaN</td>\n",
       "      <td>NaN</td>\n",
       "      <td>2713</td>\n",
       "      <td>7058437</td>\n",
       "      <td>https://www.camara.leg.br/cota-parlamentar/not...</td>\n",
       "    </tr>\n",
       "    <tr>\n",
       "      <th>2</th>\n",
       "      <td>LIDERANÇA DO DEMOCRATAS</td>\n",
       "      <td>NaN</td>\n",
       "      <td>NaN</td>\n",
       "      <td>NaN</td>\n",
       "      <td>2019</td>\n",
       "      <td>NaN</td>\n",
       "      <td>NaN</td>\n",
       "      <td>56</td>\n",
       "      <td>4</td>\n",
       "      <td>CONSULTORIAS, PESQUISAS E TRABALHOS TÉCNICOS.</td>\n",
       "      <td>...</td>\n",
       "      <td>0</td>\n",
       "      <td>NaN</td>\n",
       "      <td>NaN</td>\n",
       "      <td>1709149</td>\n",
       "      <td>NaN</td>\n",
       "      <td>NaN</td>\n",
       "      <td>NaN</td>\n",
       "      <td>2713</td>\n",
       "      <td>7078508</td>\n",
       "      <td>https://www.camara.leg.br/cota-parlamentar/not...</td>\n",
       "    </tr>\n",
       "    <tr>\n",
       "      <th>3</th>\n",
       "      <td>LIDERANÇA DO DEMOCRATAS</td>\n",
       "      <td>NaN</td>\n",
       "      <td>NaN</td>\n",
       "      <td>NaN</td>\n",
       "      <td>2019</td>\n",
       "      <td>NaN</td>\n",
       "      <td>NaN</td>\n",
       "      <td>56</td>\n",
       "      <td>4</td>\n",
       "      <td>CONSULTORIAS, PESQUISAS E TRABALHOS TÉCNICOS.</td>\n",
       "      <td>...</td>\n",
       "      <td>0</td>\n",
       "      <td>NaN</td>\n",
       "      <td>NaN</td>\n",
       "      <td>1730495</td>\n",
       "      <td>NaN</td>\n",
       "      <td>NaN</td>\n",
       "      <td>NaN</td>\n",
       "      <td>2713</td>\n",
       "      <td>7123566</td>\n",
       "      <td>https://www.camara.leg.br/cota-parlamentar/not...</td>\n",
       "    </tr>\n",
       "    <tr>\n",
       "      <th>4</th>\n",
       "      <td>LIDERANÇA DO DEMOCRATAS</td>\n",
       "      <td>NaN</td>\n",
       "      <td>NaN</td>\n",
       "      <td>NaN</td>\n",
       "      <td>2019</td>\n",
       "      <td>NaN</td>\n",
       "      <td>NaN</td>\n",
       "      <td>56</td>\n",
       "      <td>5</td>\n",
       "      <td>DIVULGAÇÃO DA ATIVIDADE PARLAMENTAR.</td>\n",
       "      <td>...</td>\n",
       "      <td>0</td>\n",
       "      <td>NaN</td>\n",
       "      <td>NaN</td>\n",
       "      <td>1703569</td>\n",
       "      <td>NaN</td>\n",
       "      <td>NaN</td>\n",
       "      <td>NaN</td>\n",
       "      <td>2713</td>\n",
       "      <td>7067718</td>\n",
       "      <td>https://www.camara.leg.br/cota-parlamentar/not...</td>\n",
       "    </tr>\n",
       "  </tbody>\n",
       "</table>\n",
       "<p>5 rows × 32 columns</p>\n",
       "</div>"
      ],
      "text/plain": [
       "         txNomeParlamentar  cpf  ideCadastro  nuCarteiraParlamentar  \\\n",
       "0  LIDERANÇA DO DEMOCRATAS  NaN          NaN                    NaN   \n",
       "1  LIDERANÇA DO DEMOCRATAS  NaN          NaN                    NaN   \n",
       "2  LIDERANÇA DO DEMOCRATAS  NaN          NaN                    NaN   \n",
       "3  LIDERANÇA DO DEMOCRATAS  NaN          NaN                    NaN   \n",
       "4  LIDERANÇA DO DEMOCRATAS  NaN          NaN                    NaN   \n",
       "\n",
       "   nuLegislatura sgUF sgPartido  codLegislatura  numSubCota  \\\n",
       "0           2019  NaN       NaN              56           4   \n",
       "1           2019  NaN       NaN              56           4   \n",
       "2           2019  NaN       NaN              56           4   \n",
       "3           2019  NaN       NaN              56           4   \n",
       "4           2019  NaN       NaN              56           5   \n",
       "\n",
       "                                    txtDescricao  ...  numParcela  \\\n",
       "0  CONSULTORIAS, PESQUISAS E TRABALHOS TÉCNICOS.  ...           0   \n",
       "1  CONSULTORIAS, PESQUISAS E TRABALHOS TÉCNICOS.  ...           0   \n",
       "2  CONSULTORIAS, PESQUISAS E TRABALHOS TÉCNICOS.  ...           0   \n",
       "3  CONSULTORIAS, PESQUISAS E TRABALHOS TÉCNICOS.  ...           0   \n",
       "4           DIVULGAÇÃO DA ATIVIDADE PARLAMENTAR.  ...           0   \n",
       "\n",
       "  txtPassageiro txtTrecho  numLote numRessarcimento  datPagamentoRestituicao  \\\n",
       "0           NaN       NaN  1693866              NaN                      NaN   \n",
       "1           NaN       NaN  1698547              NaN                      NaN   \n",
       "2           NaN       NaN  1709149              NaN                      NaN   \n",
       "3           NaN       NaN  1730495              NaN                      NaN   \n",
       "4           NaN       NaN  1703569              NaN                      NaN   \n",
       "\n",
       "  vlrRestituicao  nuDeputadoId  ideDocumento  \\\n",
       "0            NaN          2713       7050172   \n",
       "1            NaN          2713       7058437   \n",
       "2            NaN          2713       7078508   \n",
       "3            NaN          2713       7123566   \n",
       "4            NaN          2713       7067718   \n",
       "\n",
       "                                        urlDocumento  \n",
       "0  https://www.camara.leg.br/cota-parlamentar/not...  \n",
       "1  https://www.camara.leg.br/cota-parlamentar/not...  \n",
       "2  https://www.camara.leg.br/cota-parlamentar/not...  \n",
       "3  https://www.camara.leg.br/cota-parlamentar/not...  \n",
       "4  https://www.camara.leg.br/cota-parlamentar/not...  \n",
       "\n",
       "[5 rows x 32 columns]"
      ]
     },
     "execution_count": 7,
     "metadata": {},
     "output_type": "execute_result"
    }
   ],
   "source": [
    "df.head()"
   ]
  },
  {
   "cell_type": "code",
   "execution_count": 11,
   "metadata": {},
   "outputs": [
    {
     "name": "stderr",
     "output_type": "stream",
     "text": [
      "C:\\Users\\letic\\AppData\\Local\\Temp\\ipykernel_71624\\3322519052.py:2: DtypeWarning: Columns (27) have mixed types. Specify dtype option on import or set low_memory=False.\n",
      "  df_for = pd.read_csv(f'http://www.camara.leg.br/cotas/Ano-{ano}.csv.zip', sep=\";\", compression=\"zip\")\n"
     ]
    },
    {
     "name": "stdout",
     "output_type": "stream",
     "text": [
      "(349235, 32)\n"
     ]
    },
    {
     "name": "stderr",
     "output_type": "stream",
     "text": [
      "C:\\Users\\letic\\AppData\\Local\\Temp\\ipykernel_71624\\3322519052.py:2: DtypeWarning: Columns (27) have mixed types. Specify dtype option on import or set low_memory=False.\n",
      "  df_for = pd.read_csv(f'http://www.camara.leg.br/cotas/Ano-{ano}.csv.zip', sep=\";\", compression=\"zip\")\n"
     ]
    },
    {
     "name": "stdout",
     "output_type": "stream",
     "text": [
      "(385169, 32)\n"
     ]
    },
    {
     "name": "stderr",
     "output_type": "stream",
     "text": [
      "C:\\Users\\letic\\AppData\\Local\\Temp\\ipykernel_71624\\3322519052.py:2: DtypeWarning: Columns (27) have mixed types. Specify dtype option on import or set low_memory=False.\n",
      "  df_for = pd.read_csv(f'http://www.camara.leg.br/cotas/Ano-{ano}.csv.zip', sep=\";\", compression=\"zip\")\n"
     ]
    },
    {
     "name": "stdout",
     "output_type": "stream",
     "text": [
      "(358345, 32)\n"
     ]
    },
    {
     "name": "stderr",
     "output_type": "stream",
     "text": [
      "C:\\Users\\letic\\AppData\\Local\\Temp\\ipykernel_71624\\3322519052.py:2: DtypeWarning: Columns (27) have mixed types. Specify dtype option on import or set low_memory=False.\n",
      "  df_for = pd.read_csv(f'http://www.camara.leg.br/cotas/Ano-{ano}.csv.zip', sep=\";\", compression=\"zip\")\n"
     ]
    },
    {
     "name": "stdout",
     "output_type": "stream",
     "text": [
      "(391528, 32)\n"
     ]
    },
    {
     "name": "stderr",
     "output_type": "stream",
     "text": [
      "C:\\Users\\letic\\AppData\\Local\\Temp\\ipykernel_71624\\3322519052.py:2: DtypeWarning: Columns (27) have mixed types. Specify dtype option on import or set low_memory=False.\n",
      "  df_for = pd.read_csv(f'http://www.camara.leg.br/cotas/Ano-{ano}.csv.zip', sep=\";\", compression=\"zip\")\n"
     ]
    },
    {
     "name": "stdout",
     "output_type": "stream",
     "text": [
      "(356093, 32)\n",
      "(403645, 32)\n",
      "(383269, 32)\n"
     ]
    },
    {
     "name": "stderr",
     "output_type": "stream",
     "text": [
      "C:\\Users\\letic\\AppData\\Local\\Temp\\ipykernel_71624\\3322519052.py:2: DtypeWarning: Columns (27) have mixed types. Specify dtype option on import or set low_memory=False.\n",
      "  df_for = pd.read_csv(f'http://www.camara.leg.br/cotas/Ano-{ano}.csv.zip', sep=\";\", compression=\"zip\")\n"
     ]
    },
    {
     "name": "stdout",
     "output_type": "stream",
     "text": [
      "(368001, 32)\n",
      "(292790, 32)\n",
      "(289453, 32)\n",
      "(166523, 32)\n"
     ]
    }
   ],
   "source": [
    "for ano in range(2010, 2021):\n",
    "    df_for = pd.read_csv(f'http://www.camara.leg.br/cotas/Ano-{ano}.csv.zip', sep=\";\", compression=\"zip\")\n",
    "    print(df_for.shape)"
   ]
  },
  {
   "cell_type": "code",
   "execution_count": 12,
   "metadata": {},
   "outputs": [
    {
     "data": {
      "text/plain": [
       "0         2020-04-27T00:00:00\n",
       "1         2020-05-27T00:00:00\n",
       "2         2020-07-27T00:00:00\n",
       "3         2020-11-26T01:00:00\n",
       "4         2020-06-26T00:00:00\n",
       "                 ...         \n",
       "166518    2020-11-16T12:00:00\n",
       "166519    2020-11-25T12:00:00\n",
       "166520    2020-11-26T12:00:00\n",
       "166521    2020-12-02T12:00:00\n",
       "166522    2020-12-28T12:00:00\n",
       "Name: datEmissao, Length: 166523, dtype: object"
      ]
     },
     "execution_count": 12,
     "metadata": {},
     "output_type": "execute_result"
    }
   ],
   "source": [
    "df.datEmissao"
   ]
  },
  {
   "cell_type": "code",
   "execution_count": 13,
   "metadata": {},
   "outputs": [
    {
     "data": {
      "text/plain": [
       "0        2020-04-27 00:00:00\n",
       "1        2020-05-27 00:00:00\n",
       "2        2020-07-27 00:00:00\n",
       "3        2020-11-26 01:00:00\n",
       "4        2020-06-26 00:00:00\n",
       "                 ...        \n",
       "166518   2020-11-16 12:00:00\n",
       "166519   2020-11-25 12:00:00\n",
       "166520   2020-11-26 12:00:00\n",
       "166521   2020-12-02 12:00:00\n",
       "166522   2020-12-28 12:00:00\n",
       "Name: datEmissao, Length: 166523, dtype: datetime64[ns]"
      ]
     },
     "execution_count": 13,
     "metadata": {},
     "output_type": "execute_result"
    }
   ],
   "source": [
    "pd.to_datetime(df.datEmissao)"
   ]
  },
  {
   "cell_type": "code",
   "execution_count": 15,
   "metadata": {},
   "outputs": [
    {
     "data": {
      "text/plain": [
       "txNomeParlamentar             object\n",
       "cpf                          float64\n",
       "ideCadastro                  float64\n",
       "nuCarteiraParlamentar        float64\n",
       "nuLegislatura                  int64\n",
       "sgUF                          object\n",
       "sgPartido                     object\n",
       "codLegislatura                 int64\n",
       "numSubCota                     int64\n",
       "txtDescricao                  object\n",
       "numEspecificacaoSubCota        int64\n",
       "txtDescricaoEspecificacao     object\n",
       "txtFornecedor                 object\n",
       "txtCNPJCPF                    object\n",
       "txtNumero                     object\n",
       "indTipoDocumento               int64\n",
       "datEmissao                    object\n",
       "vlrDocumento                 float64\n",
       "vlrGlosa                     float64\n",
       "vlrLiquido                   float64\n",
       "numMes                         int64\n",
       "numAno                         int64\n",
       "numParcela                     int64\n",
       "txtPassageiro                 object\n",
       "txtTrecho                     object\n",
       "numLote                        int64\n",
       "numRessarcimento             float64\n",
       "datPagamentoRestituicao       object\n",
       "vlrRestituicao               float64\n",
       "nuDeputadoId                   int64\n",
       "ideDocumento                   int64\n",
       "urlDocumento                  object\n",
       "dtype: object"
      ]
     },
     "execution_count": 15,
     "metadata": {},
     "output_type": "execute_result"
    }
   ],
   "source": [
    "df.dtypes"
   ]
  },
  {
   "cell_type": "code",
   "execution_count": 16,
   "metadata": {},
   "outputs": [
    {
     "data": {
      "text/plain": [
       "0                   NaN\n",
       "1                   NaN\n",
       "2                   NaN\n",
       "3                   NaN\n",
       "4                   NaN\n",
       "              ...      \n",
       "166518    43927998915.0\n",
       "166519    43927998915.0\n",
       "166520    43927998915.0\n",
       "166521    43927998915.0\n",
       "166522    43927998915.0\n",
       "Name: cpf, Length: 166523, dtype: object"
      ]
     },
     "execution_count": 16,
     "metadata": {},
     "output_type": "execute_result"
    }
   ],
   "source": [
    "df.cpf.astype(\"object\")"
   ]
  }
 ],
 "metadata": {
  "kernelspec": {
   "display_name": "Python 3",
   "language": "python",
   "name": "python3"
  },
  "language_info": {
   "codemirror_mode": {
    "name": "ipython",
    "version": 3
   },
   "file_extension": ".py",
   "mimetype": "text/x-python",
   "name": "python",
   "nbconvert_exporter": "python",
   "pygments_lexer": "ipython3",
   "version": "3.11.0"
  },
  "orig_nbformat": 4
 },
 "nbformat": 4,
 "nbformat_minor": 2
}
